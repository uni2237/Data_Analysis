{
 "cells": [
  {
   "cell_type": "markdown",
   "metadata": {},
   "source": [
    "# 전국 신규 민간 아파트 분양가격 동향\n",
    "\n",
    "2015년 10월부터 2018년 7월까지의 전체 민간 신규아파트 분양가격 동향"
   ]
  },
  {
   "cell_type": "code",
   "execution_count": 50,
   "metadata": {},
   "outputs": [
    {
     "name": "stdout",
     "output_type": "stream",
     "text": [
      "Collecting package metadata: ...working... done\n",
      "Solving environment: ...working... done\n",
      "\n",
      "# All requested packages already installed.\n",
      "\n",
      "\n",
      "Note: you may need to restart the kernel to use updated packages.\n"
     ]
    }
   ],
   "source": [
    "conda install -c conda-forge plotnine "
   ]
  },
  {
   "cell_type": "code",
   "execution_count": 52,
   "metadata": {
    "scrolled": true
   },
   "outputs": [
    {
     "name": "stdout",
     "output_type": "stream",
     "text": [
      "Collecting package metadata: ...working... done\n",
      "Solving environment: ...working... done\n",
      "\n",
      "# All requested packages already installed.\n",
      "\n",
      "\n",
      "Note: you may need to restart the kernel to use updated packages.\n"
     ]
    }
   ],
   "source": [
    "conda install -c conda-forge missingno "
   ]
  },
  {
   "cell_type": "code",
   "execution_count": 56,
   "metadata": {},
   "outputs": [],
   "source": [
    "import warnings\n",
    "warnings.filterwarnings('ignore')"
   ]
  },
  {
   "cell_type": "code",
   "execution_count": 58,
   "metadata": {},
   "outputs": [],
   "source": [
    "import pandas as pd\n",
    "import numpy as np\n",
    "import re \n",
    "from plotnine import *"
   ]
  },
  {
   "cell_type": "markdown",
   "metadata": {},
   "source": [
    "%을 사용하면 터미널에서 사용할 수 있는 유닉스 명령어를 사용하실 수 있습니다. 경로를 불러오는 문제가 있을 때 이 방법을 사용하면 좋습니다."
   ]
  },
  {
   "cell_type": "code",
   "execution_count": 60,
   "metadata": {},
   "outputs": [
    {
     "data": {
      "text/plain": [
       "'C:\\\\Users\\\\a0102\\\\Documents\\\\python study\\\\source_code'"
      ]
     },
     "execution_count": 60,
     "metadata": {},
     "output_type": "execute_result"
    }
   ],
   "source": [
    "%pwd"
   ]
  },
  {
   "cell_type": "code",
   "execution_count": 62,
   "metadata": {},
   "outputs": [
    {
     "name": "stdout",
     "output_type": "stream",
     "text": [
      " C 드라이브의 볼륨에는 이름이 없습니다.\n",
      " 볼륨 일련 번호: 4878-6E13\n",
      "\n",
      " C:\\Users\\a0102\\Documents\\python study\\source_code\\data\\apt_price 디렉터리\n",
      "\n",
      "2019-04-22  오후 08:48    <DIR>          .\n",
      "2019-04-22  오후 08:48    <DIR>          ..\n",
      "2019-04-19  오후 05:58           108,525 전국_평균_분양가격_2018.7월_.csv\n",
      "2019-04-19  오후 05:58             4,528 지역별_3.3㎡당_평균_분양가격_천원__15.09월.csv\n",
      "               2개 파일             113,053 바이트\n",
      "               2개 디렉터리  19,954,106,368 바이트 남음\n"
     ]
    }
   ],
   "source": [
    "# data 폴더 아래에 apt_price 라는 폴더를 만들어 공공데이터 포털에서 다운로드 받은 데이터를 모아 두었습니다. 해당 파일을 확인해 봅니다.\n",
    "%ls data\\apt_price\\"
   ]
  },
  {
   "cell_type": "code",
   "execution_count": 64,
   "metadata": {},
   "outputs": [
    {
     "data": {
      "text/plain": [
       "(2890, 5)"
      ]
     },
     "execution_count": 64,
     "metadata": {},
     "output_type": "execute_result"
    }
   ],
   "source": [
    "#데이터불러오기 (pre_sale에 넣어줬음)\n",
    "pre_sale = pd.read_csv('data/apt_price/전국_평균_분양가격_2018.7월_.csv', encoding='euc-kr')\n",
    "pre_sale.shape #불러온 데이터의 크기"
   ]
  },
  {
   "cell_type": "code",
   "execution_count": 66,
   "metadata": {},
   "outputs": [
    {
     "data": {
      "text/html": [
       "<div>\n",
       "<style scoped>\n",
       "    .dataframe tbody tr th:only-of-type {\n",
       "        vertical-align: middle;\n",
       "    }\n",
       "\n",
       "    .dataframe tbody tr th {\n",
       "        vertical-align: top;\n",
       "    }\n",
       "\n",
       "    .dataframe thead th {\n",
       "        text-align: right;\n",
       "    }\n",
       "</style>\n",
       "<table border=\"1\" class=\"dataframe\">\n",
       "  <thead>\n",
       "    <tr style=\"text-align: right;\">\n",
       "      <th></th>\n",
       "      <th>지역명</th>\n",
       "      <th>규모구분</th>\n",
       "      <th>연도</th>\n",
       "      <th>월</th>\n",
       "      <th>분양가격(㎡)</th>\n",
       "    </tr>\n",
       "  </thead>\n",
       "  <tbody>\n",
       "    <tr>\n",
       "      <th>0</th>\n",
       "      <td>서울</td>\n",
       "      <td>전체</td>\n",
       "      <td>2015</td>\n",
       "      <td>10</td>\n",
       "      <td>5841</td>\n",
       "    </tr>\n",
       "    <tr>\n",
       "      <th>1</th>\n",
       "      <td>서울</td>\n",
       "      <td>전용면적 60㎡이하</td>\n",
       "      <td>2015</td>\n",
       "      <td>10</td>\n",
       "      <td>5652</td>\n",
       "    </tr>\n",
       "    <tr>\n",
       "      <th>2</th>\n",
       "      <td>서울</td>\n",
       "      <td>전용면적 60㎡초과 85㎡이하</td>\n",
       "      <td>2015</td>\n",
       "      <td>10</td>\n",
       "      <td>5882</td>\n",
       "    </tr>\n",
       "    <tr>\n",
       "      <th>3</th>\n",
       "      <td>서울</td>\n",
       "      <td>전용면적 85㎡초과 102㎡이하</td>\n",
       "      <td>2015</td>\n",
       "      <td>10</td>\n",
       "      <td>5721</td>\n",
       "    </tr>\n",
       "    <tr>\n",
       "      <th>4</th>\n",
       "      <td>서울</td>\n",
       "      <td>전용면적 102㎡초과</td>\n",
       "      <td>2015</td>\n",
       "      <td>10</td>\n",
       "      <td>5879</td>\n",
       "    </tr>\n",
       "  </tbody>\n",
       "</table>\n",
       "</div>"
      ],
      "text/plain": [
       "  지역명               규모구분    연도   월 분양가격(㎡)\n",
       "0  서울                 전체  2015  10    5841\n",
       "1  서울         전용면적 60㎡이하  2015  10    5652\n",
       "2  서울   전용면적 60㎡초과 85㎡이하  2015  10    5882\n",
       "3  서울  전용면적 85㎡초과 102㎡이하  2015  10    5721\n",
       "4  서울        전용면적 102㎡초과  2015  10    5879"
      ]
     },
     "execution_count": 66,
     "metadata": {},
     "output_type": "execute_result"
    }
   ],
   "source": [
    "pre_sale.head() #위에서 5개의 데이터를 디폴트로. head(10) -> 10개가져옴"
   ]
  },
  {
   "cell_type": "code",
   "execution_count": 68,
   "metadata": {},
   "outputs": [
    {
     "data": {
      "text/html": [
       "<div>\n",
       "<style scoped>\n",
       "    .dataframe tbody tr th:only-of-type {\n",
       "        vertical-align: middle;\n",
       "    }\n",
       "\n",
       "    .dataframe tbody tr th {\n",
       "        vertical-align: top;\n",
       "    }\n",
       "\n",
       "    .dataframe thead th {\n",
       "        text-align: right;\n",
       "    }\n",
       "</style>\n",
       "<table border=\"1\" class=\"dataframe\">\n",
       "  <thead>\n",
       "    <tr style=\"text-align: right;\">\n",
       "      <th></th>\n",
       "      <th>지역명</th>\n",
       "      <th>규모구분</th>\n",
       "      <th>연도</th>\n",
       "      <th>월</th>\n",
       "      <th>분양가격(㎡)</th>\n",
       "    </tr>\n",
       "  </thead>\n",
       "  <tbody>\n",
       "    <tr>\n",
       "      <th>2885</th>\n",
       "      <td>제주</td>\n",
       "      <td>전체</td>\n",
       "      <td>2018</td>\n",
       "      <td>7</td>\n",
       "      <td>3334</td>\n",
       "    </tr>\n",
       "    <tr>\n",
       "      <th>2886</th>\n",
       "      <td>제주</td>\n",
       "      <td>전용면적 60㎡이하</td>\n",
       "      <td>2018</td>\n",
       "      <td>7</td>\n",
       "      <td>NaN</td>\n",
       "    </tr>\n",
       "    <tr>\n",
       "      <th>2887</th>\n",
       "      <td>제주</td>\n",
       "      <td>전용면적 60㎡초과 85㎡이하</td>\n",
       "      <td>2018</td>\n",
       "      <td>7</td>\n",
       "      <td>3356</td>\n",
       "    </tr>\n",
       "    <tr>\n",
       "      <th>2888</th>\n",
       "      <td>제주</td>\n",
       "      <td>전용면적 85㎡초과 102㎡이하</td>\n",
       "      <td>2018</td>\n",
       "      <td>7</td>\n",
       "      <td>3226</td>\n",
       "    </tr>\n",
       "    <tr>\n",
       "      <th>2889</th>\n",
       "      <td>제주</td>\n",
       "      <td>전용면적 102㎡초과</td>\n",
       "      <td>2018</td>\n",
       "      <td>7</td>\n",
       "      <td>2990</td>\n",
       "    </tr>\n",
       "  </tbody>\n",
       "</table>\n",
       "</div>"
      ],
      "text/plain": [
       "     지역명               규모구분    연도  월 분양가격(㎡)\n",
       "2885  제주                 전체  2018  7    3334\n",
       "2886  제주         전용면적 60㎡이하  2018  7     NaN\n",
       "2887  제주   전용면적 60㎡초과 85㎡이하  2018  7    3356\n",
       "2888  제주  전용면적 85㎡초과 102㎡이하  2018  7    3226\n",
       "2889  제주        전용면적 102㎡초과  2018  7    2990"
      ]
     },
     "execution_count": 68,
     "metadata": {},
     "output_type": "execute_result"
    }
   ],
   "source": [
    "pre_sale.tail() #뒤에서 5개 보여줌 "
   ]
  },
  {
   "cell_type": "code",
   "execution_count": 70,
   "metadata": {},
   "outputs": [
    {
     "name": "stdout",
     "output_type": "stream",
     "text": [
      "<class 'pandas.core.frame.DataFrame'>\n",
      "RangeIndex: 2890 entries, 0 to 2889\n",
      "Data columns (total 5 columns):\n",
      "지역명        2890 non-null object\n",
      "규모구분       2890 non-null object\n",
      "연도         2890 non-null int64\n",
      "월          2890 non-null int64\n",
      "분양가격(㎡)    2750 non-null object\n",
      "dtypes: int64(2), object(3)\n",
      "memory usage: 113.0+ KB\n"
     ]
    }
   ],
   "source": [
    "# 데이터 프레임 요약해서 보여줌 ->\n",
    "#분양가격이 숫자 타입이 아님. 숫자로 계산 할꺼니까 숫자 타입으로 변경하자.\n",
    "pre_sale.info()"
   ]
  },
  {
   "cell_type": "code",
   "execution_count": 88,
   "metadata": {},
   "outputs": [
    {
     "data": {
      "text/plain": [
       "지역명         object\n",
       "규모구분        object\n",
       "연도          object\n",
       "월           object\n",
       "분양가격(㎡)     object\n",
       "분양가격       float64\n",
       "평당분양가격     float64\n",
       "dtype: object"
      ]
     },
     "execution_count": 88,
     "metadata": {},
     "output_type": "execute_result"
    }
   ],
   "source": [
    "#어떤 데이터 형태인지만 볼수 있음 \n",
    "pre_sale.dtypes"
   ]
  },
  {
   "cell_type": "code",
   "execution_count": 90,
   "metadata": {},
   "outputs": [
    {
     "data": {
      "text/plain": [
       "지역명          0\n",
       "규모구분         0\n",
       "연도           0\n",
       "월            0\n",
       "분양가격(㎡)    140\n",
       "분양가격       232\n",
       "평당분양가격     232\n",
       "dtype: int64"
      ]
     },
     "execution_count": 90,
     "metadata": {},
     "output_type": "execute_result"
    }
   ],
   "source": [
    "pre_sale.isnull().sum() #결측치 보여줌 (분양가격 결측치가 140 임)"
   ]
  },
  {
   "cell_type": "code",
   "execution_count": 106,
   "metadata": {},
   "outputs": [],
   "source": [
    "#44부터 48까지는 한글 안 깨지도록 하는 것 \n",
    "import matplotlib"
   ]
  },
  {
   "cell_type": "code",
   "execution_count": 107,
   "metadata": {},
   "outputs": [],
   "source": [
    "from matplotlib import font_manager,rc"
   ]
  },
  {
   "cell_type": "code",
   "execution_count": 108,
   "metadata": {},
   "outputs": [],
   "source": [
    "font_name=font_manager.FontProperties(fname=\"c:/Windows/Fonts/malgun.ttf\").get_name()"
   ]
  },
  {
   "cell_type": "code",
   "execution_count": 109,
   "metadata": {},
   "outputs": [],
   "source": [
    "rc('font',family=font_name)"
   ]
  },
  {
   "cell_type": "code",
   "execution_count": 110,
   "metadata": {},
   "outputs": [],
   "source": [
    "matplotlib.rcParams['axes.unicode_minus']=False"
   ]
  },
  {
   "cell_type": "code",
   "execution_count": 111,
   "metadata": {},
   "outputs": [
    {
     "data": {
      "text/plain": [
       "<matplotlib.axes._subplots.AxesSubplot at 0x22c1667eb70>"
      ]
     },
     "execution_count": 111,
     "metadata": {},
     "output_type": "execute_result"
    },
    {
     "data": {
      "image/png": "[encoded data removed]",
      "text/plain": [
       "<Figure size 1296x432 with 2 Axes>"
      ]
     },
     "metadata": {
      "needs_background": "light"
     },
     "output_type": "display_data"
    }
   ],
   "source": [
    "#결측치 보기->(missingno로 시각화 -> 분양가격 그래프에서 하얀 부분들이 결측치)\n",
    "import missingno as msno\n",
    "msno.matrix(pre_sale, figsize=(18,6))"
   ]
  },
  {
   "cell_type": "code",
   "execution_count": 112,
   "metadata": {},
   "outputs": [],
   "source": [
    "# 연도와 월은 카테고리 형태의 데이터이기 때문에 스트링 형태로 변경\n",
    "pre_sale['연도'] = pre_sale['연도'].astype(str)\n",
    "pre_sale['월'] = pre_sale['월'].astype(str)"
   ]
  },
  {
   "cell_type": "code",
   "execution_count": 113,
   "metadata": {},
   "outputs": [],
   "source": [
    "pre_sale_price = pre_sale['분양가격(㎡)']"
   ]
  },
  {
   "cell_type": "code",
   "execution_count": 114,
   "metadata": {},
   "outputs": [],
   "source": [
    "# 분양가격의 타입을 숫자로 변경해 '분양가격'이라는 새 컬럼 만들어서 넣어줌\n",
    "pre_sale['분양가격'] = pd.to_numeric(pre_sale_price, errors='coerce')\n",
    "# 평당 분양가격도 새로 만들어줌\n",
    "pre_sale['평당분양가격'] = pre_sale['분양가격'] * 3.3"
   ]
  },
  {
   "cell_type": "code",
   "execution_count": 115,
   "metadata": {},
   "outputs": [
    {
     "name": "stdout",
     "output_type": "stream",
     "text": [
      "<class 'pandas.core.frame.DataFrame'>\n",
      "RangeIndex: 2890 entries, 0 to 2889\n",
      "Data columns (total 7 columns):\n",
      "지역명        2890 non-null object\n",
      "규모구분       2890 non-null object\n",
      "연도         2890 non-null object\n",
      "월          2890 non-null object\n",
      "분양가격(㎡)    2750 non-null object\n",
      "분양가격       2658 non-null float64\n",
      "평당분양가격     2658 non-null float64\n",
      "dtypes: float64(2), object(5)\n",
      "memory usage: 158.1+ KB\n"
     ]
    }
   ],
   "source": [
    "pre_sale.info() #연도,월은 string으로 바꿔줘서 object로 바뀜.분양갸격과 평당분양가격이 float으로 새로 생김 "
   ]
  },
  {
   "cell_type": "code",
   "execution_count": 116,
   "metadata": {},
   "outputs": [
    {
     "data": {
      "text/plain": [
       "지역명         object\n",
       "규모구분        object\n",
       "연도          object\n",
       "월           object\n",
       "분양가격(㎡)     object\n",
       "분양가격       float64\n",
       "평당분양가격     float64\n",
       "dtype: object"
      ]
     },
     "execution_count": 116,
     "metadata": {},
     "output_type": "execute_result"
    }
   ],
   "source": [
    "pre_sale.dtypes"
   ]
  },
  {
   "cell_type": "code",
   "execution_count": 117,
   "metadata": {},
   "outputs": [
    {
     "data": {
      "text/plain": [
       "지역명          0\n",
       "규모구분         0\n",
       "연도           0\n",
       "월            0\n",
       "분양가격(㎡)    140\n",
       "분양가격       232\n",
       "평당분양가격     232\n",
       "dtype: int64"
      ]
     },
     "execution_count": 117,
     "metadata": {},
     "output_type": "execute_result"
    }
   ],
   "source": [
    "# 분양가격 결측치가 늘어남->object여서 수치에 포함아 되지 않았던 공백란들도 숫자로 바꾸면서 결측치에 들어가게됨\n",
    "pre_sale.isnull().sum()"
   ]
  },
  {
   "cell_type": "code",
   "execution_count": 118,
   "metadata": {},
   "outputs": [
    {
     "data": {
      "text/html": [
       "<div>\n",
       "<style scoped>\n",
       "    .dataframe tbody tr th:only-of-type {\n",
       "        vertical-align: middle;\n",
       "    }\n",
       "\n",
       "    .dataframe tbody tr th {\n",
       "        vertical-align: top;\n",
       "    }\n",
       "\n",
       "    .dataframe thead th {\n",
       "        text-align: right;\n",
       "    }\n",
       "</style>\n",
       "<table border=\"1\" class=\"dataframe\">\n",
       "  <thead>\n",
       "    <tr style=\"text-align: right;\">\n",
       "      <th></th>\n",
       "      <th>분양가격</th>\n",
       "      <th>평당분양가격</th>\n",
       "    </tr>\n",
       "  </thead>\n",
       "  <tbody>\n",
       "    <tr>\n",
       "      <th>count</th>\n",
       "      <td>2,658</td>\n",
       "      <td>2,658</td>\n",
       "    </tr>\n",
       "    <tr>\n",
       "      <th>mean</th>\n",
       "      <td>3,063</td>\n",
       "      <td>10,109</td>\n",
       "    </tr>\n",
       "    <tr>\n",
       "      <th>std</th>\n",
       "      <td>1,113</td>\n",
       "      <td>3,672</td>\n",
       "    </tr>\n",
       "    <tr>\n",
       "      <th>min</th>\n",
       "      <td>1,868</td>\n",
       "      <td>6,164</td>\n",
       "    </tr>\n",
       "    <tr>\n",
       "      <th>25%</th>\n",
       "      <td>2,348</td>\n",
       "      <td>7,748</td>\n",
       "    </tr>\n",
       "    <tr>\n",
       "      <th>50%</th>\n",
       "      <td>2,743</td>\n",
       "      <td>9,052</td>\n",
       "    </tr>\n",
       "    <tr>\n",
       "      <th>75%</th>\n",
       "      <td>3,294</td>\n",
       "      <td>10,869</td>\n",
       "    </tr>\n",
       "    <tr>\n",
       "      <th>max</th>\n",
       "      <td>8,098</td>\n",
       "      <td>26,723</td>\n",
       "    </tr>\n",
       "  </tbody>\n",
       "</table>\n",
       "</div>"
      ],
      "text/plain": [
       "       분양가격  평당분양가격\n",
       "count 2,658   2,658\n",
       "mean  3,063  10,109\n",
       "std   1,113   3,672\n",
       "min   1,868   6,164\n",
       "25%   2,348   7,748\n",
       "50%   2,743   9,052\n",
       "75%   3,294  10,869\n",
       "max   8,098  26,723"
      ]
     },
     "execution_count": 118,
     "metadata": {},
     "output_type": "execute_result"
    }
   ],
   "source": [
    "pre_sale.describe() #데이터 요약 (디폴트는 숫자형)"
   ]
  },
  {
   "cell_type": "code",
   "execution_count": 119,
   "metadata": {},
   "outputs": [],
   "source": [
    "#pre_sale.describe?"
   ]
  },
  {
   "cell_type": "code",
   "execution_count": 120,
   "metadata": {},
   "outputs": [
    {
     "data": {
      "text/html": [
       "<div>\n",
       "<style scoped>\n",
       "    .dataframe tbody tr th:only-of-type {\n",
       "        vertical-align: middle;\n",
       "    }\n",
       "\n",
       "    .dataframe tbody tr th {\n",
       "        vertical-align: top;\n",
       "    }\n",
       "\n",
       "    .dataframe thead th {\n",
       "        text-align: right;\n",
       "    }\n",
       "</style>\n",
       "<table border=\"1\" class=\"dataframe\">\n",
       "  <thead>\n",
       "    <tr style=\"text-align: right;\">\n",
       "      <th></th>\n",
       "      <th>지역명</th>\n",
       "      <th>규모구분</th>\n",
       "      <th>연도</th>\n",
       "      <th>월</th>\n",
       "      <th>분양가격(㎡)</th>\n",
       "    </tr>\n",
       "  </thead>\n",
       "  <tbody>\n",
       "    <tr>\n",
       "      <th>count</th>\n",
       "      <td>2890</td>\n",
       "      <td>2890</td>\n",
       "      <td>2890</td>\n",
       "      <td>2890</td>\n",
       "      <td>2750</td>\n",
       "    </tr>\n",
       "    <tr>\n",
       "      <th>unique</th>\n",
       "      <td>17</td>\n",
       "      <td>5</td>\n",
       "      <td>4</td>\n",
       "      <td>12</td>\n",
       "      <td>1305</td>\n",
       "    </tr>\n",
       "    <tr>\n",
       "      <th>top</th>\n",
       "      <td>전남</td>\n",
       "      <td>전용면적 60㎡이하</td>\n",
       "      <td>2016</td>\n",
       "      <td>6</td>\n",
       "      <td>2221</td>\n",
       "    </tr>\n",
       "    <tr>\n",
       "      <th>freq</th>\n",
       "      <td>170</td>\n",
       "      <td>578</td>\n",
       "      <td>1020</td>\n",
       "      <td>255</td>\n",
       "      <td>17</td>\n",
       "    </tr>\n",
       "  </tbody>\n",
       "</table>\n",
       "</div>"
      ],
      "text/plain": [
       "         지역명        규모구분    연도     월 분양가격(㎡)\n",
       "count   2890        2890  2890  2890    2750\n",
       "unique    17           5     4    12    1305\n",
       "top       전남  전용면적 60㎡이하  2016     6    2221\n",
       "freq     170         578  1020   255      17"
      ]
     },
     "execution_count": 120,
     "metadata": {},
     "output_type": "execute_result"
    }
   ],
   "source": [
    "pre_sale.describe(include=[np.object]) #object형도 describe"
   ]
  },
  {
   "cell_type": "code",
   "execution_count": 121,
   "metadata": {},
   "outputs": [
    {
     "data": {
      "text/plain": [
       "(1020, 7)"
      ]
     },
     "execution_count": 121,
     "metadata": {},
     "output_type": "execute_result"
    }
   ],
   "source": [
    "# 2017년 데이터만 본다.\n",
    "pre_sale_2017 = pre_sale.loc[pre_sale['연도'] == '2017'] #object타입이므로 ' ' 필요!\n",
    "pre_sale_2017.shape"
   ]
  },
  {
   "cell_type": "code",
   "execution_count": 122,
   "metadata": {},
   "outputs": [
    {
     "data": {
      "text/plain": [
       "전용면적 60㎡이하           578\n",
       "전체                   578\n",
       "전용면적 102㎡초과          578\n",
       "전용면적 85㎡초과 102㎡이하    578\n",
       "전용면적 60㎡초과 85㎡이하     578\n",
       "Name: 규모구분, dtype: int64"
      ]
     },
     "execution_count": 122,
     "metadata": {},
     "output_type": "execute_result"
    }
   ],
   "source": [
    "# 같은 값을 갖고 있는 걸로 시도별로 동일하게 데이터가 들어 있는 것을 확인할 수 있다.\n",
    "pre_sale['규모구분'].value_counts()"
   ]
  },
  {
   "cell_type": "code",
   "execution_count": 123,
   "metadata": {},
   "outputs": [
    {
     "data": {
      "text/plain": [
       "전남    170\n",
       "충남    170\n",
       "인천    170\n",
       "제주    170\n",
       "전북    170\n",
       "경북    170\n",
       "광주    170\n",
       "강원    170\n",
       "대구    170\n",
       "세종    170\n",
       "서울    170\n",
       "경남    170\n",
       "대전    170\n",
       "충북    170\n",
       "부산    170\n",
       "경기    170\n",
       "울산    170\n",
       "Name: 지역명, dtype: int64"
      ]
     },
     "execution_count": 123,
     "metadata": {},
     "output_type": "execute_result"
    }
   ],
   "source": [
    "pre_sale['지역명'].value_counts()"
   ]
  },
  {
   "cell_type": "markdown",
   "metadata": {},
   "source": [
    "# 전국평균 분양가격\n",
    "groupby 와 pivot_table 활용하기"
   ]
  },
  {
   "cell_type": "code",
   "execution_count": 125,
   "metadata": {},
   "outputs": [],
   "source": [
    "pre_sale.groupby?"
   ]
  },
  {
   "cell_type": "code",
   "execution_count": 126,
   "metadata": {},
   "outputs": [
    {
     "data": {
      "text/html": [
       "<div>\n",
       "<style scoped>\n",
       "    .dataframe tbody tr th:only-of-type {\n",
       "        vertical-align: middle;\n",
       "    }\n",
       "\n",
       "    .dataframe tbody tr th {\n",
       "        vertical-align: top;\n",
       "    }\n",
       "\n",
       "    .dataframe thead th {\n",
       "        text-align: right;\n",
       "    }\n",
       "</style>\n",
       "<table border=\"1\" class=\"dataframe\">\n",
       "  <thead>\n",
       "    <tr style=\"text-align: right;\">\n",
       "      <th></th>\n",
       "      <th>연도</th>\n",
       "      <th>2015</th>\n",
       "      <th>2016</th>\n",
       "      <th>2017</th>\n",
       "      <th>2018</th>\n",
       "    </tr>\n",
       "  </thead>\n",
       "  <tbody>\n",
       "    <tr>\n",
       "      <th rowspan=\"8\" valign=\"top\">분양가격</th>\n",
       "      <th>count</th>\n",
       "      <td>243</td>\n",
       "      <td>984</td>\n",
       "      <td>899</td>\n",
       "      <td>532</td>\n",
       "    </tr>\n",
       "    <tr>\n",
       "      <th>mean</th>\n",
       "      <td>2,789</td>\n",
       "      <td>2,934</td>\n",
       "      <td>3,140</td>\n",
       "      <td>3,299</td>\n",
       "    </tr>\n",
       "    <tr>\n",
       "      <th>std</th>\n",
       "      <td>977</td>\n",
       "      <td>1,071</td>\n",
       "      <td>1,108</td>\n",
       "      <td>1,196</td>\n",
       "    </tr>\n",
       "    <tr>\n",
       "      <th>min</th>\n",
       "      <td>1,868</td>\n",
       "      <td>1,900</td>\n",
       "      <td>1,976</td>\n",
       "      <td>2,076</td>\n",
       "    </tr>\n",
       "    <tr>\n",
       "      <th>25%</th>\n",
       "      <td>2,225</td>\n",
       "      <td>2,282</td>\n",
       "      <td>2,365</td>\n",
       "      <td>2,471</td>\n",
       "    </tr>\n",
       "    <tr>\n",
       "      <th>50%</th>\n",
       "      <td>2,516</td>\n",
       "      <td>2,672</td>\n",
       "      <td>2,849</td>\n",
       "      <td>2,914</td>\n",
       "    </tr>\n",
       "    <tr>\n",
       "      <th>75%</th>\n",
       "      <td>3,026</td>\n",
       "      <td>3,148</td>\n",
       "      <td>3,456</td>\n",
       "      <td>3,647</td>\n",
       "    </tr>\n",
       "    <tr>\n",
       "      <th>max</th>\n",
       "      <td>7,092</td>\n",
       "      <td>8,096</td>\n",
       "      <td>7,887</td>\n",
       "      <td>8,098</td>\n",
       "    </tr>\n",
       "    <tr>\n",
       "      <th rowspan=\"8\" valign=\"top\">평당분양가격</th>\n",
       "      <th>count</th>\n",
       "      <td>243</td>\n",
       "      <td>984</td>\n",
       "      <td>899</td>\n",
       "      <td>532</td>\n",
       "    </tr>\n",
       "    <tr>\n",
       "      <th>mean</th>\n",
       "      <td>9,203</td>\n",
       "      <td>9,683</td>\n",
       "      <td>10,360</td>\n",
       "      <td>10,885</td>\n",
       "    </tr>\n",
       "    <tr>\n",
       "      <th>std</th>\n",
       "      <td>3,224</td>\n",
       "      <td>3,536</td>\n",
       "      <td>3,655</td>\n",
       "      <td>3,947</td>\n",
       "    </tr>\n",
       "    <tr>\n",
       "      <th>min</th>\n",
       "      <td>6,164</td>\n",
       "      <td>6,270</td>\n",
       "      <td>6,521</td>\n",
       "      <td>6,851</td>\n",
       "    </tr>\n",
       "    <tr>\n",
       "      <th>25%</th>\n",
       "      <td>7,342</td>\n",
       "      <td>7,531</td>\n",
       "      <td>7,804</td>\n",
       "      <td>8,154</td>\n",
       "    </tr>\n",
       "    <tr>\n",
       "      <th>50%</th>\n",
       "      <td>8,303</td>\n",
       "      <td>8,818</td>\n",
       "      <td>9,402</td>\n",
       "      <td>9,616</td>\n",
       "    </tr>\n",
       "    <tr>\n",
       "      <th>75%</th>\n",
       "      <td>9,984</td>\n",
       "      <td>10,390</td>\n",
       "      <td>11,405</td>\n",
       "      <td>12,036</td>\n",
       "    </tr>\n",
       "    <tr>\n",
       "      <th>max</th>\n",
       "      <td>23,404</td>\n",
       "      <td>26,717</td>\n",
       "      <td>26,027</td>\n",
       "      <td>26,723</td>\n",
       "    </tr>\n",
       "  </tbody>\n",
       "</table>\n",
       "</div>"
      ],
      "text/plain": [
       "연도             2015   2016   2017   2018\n",
       "분양가격   count    243    984    899    532\n",
       "       mean   2,789  2,934  3,140  3,299\n",
       "       std      977  1,071  1,108  1,196\n",
       "       min    1,868  1,900  1,976  2,076\n",
       "       25%    2,225  2,282  2,365  2,471\n",
       "       50%    2,516  2,672  2,849  2,914\n",
       "       75%    3,026  3,148  3,456  3,647\n",
       "       max    7,092  8,096  7,887  8,098\n",
       "평당분양가격 count    243    984    899    532\n",
       "       mean   9,203  9,683 10,360 10,885\n",
       "       std    3,224  3,536  3,655  3,947\n",
       "       min    6,164  6,270  6,521  6,851\n",
       "       25%    7,342  7,531  7,804  8,154\n",
       "       50%    8,303  8,818  9,402  9,616\n",
       "       75%    9,984 10,390 11,405 12,036\n",
       "       max   23,404 26,717 26,027 26,723"
      ]
     },
     "execution_count": 126,
     "metadata": {},
     "output_type": "execute_result"
    }
   ],
   "source": [
    "# 분양가격만 봤을 때(평균) 2015년에서 2018년으로 갈수록 오른 것을 확인할 수 있습니다.\n",
    "pd.options.display.float_format = '{:,.0f}'.format\n",
    "pre_sale.groupby(pre_sale.연도).describe().T \n",
    "#groupby 사용해서 연도별로 묶음, \n",
    "#describe의 기본값은 숫자여서 숫자인거만(분양가격,평당분양가격) 요약해서 나옴,\n",
    "#(T 써서 x축과 y 바꿈->연도가 컬럼으로)"
   ]
  },
  {
   "cell_type": "markdown",
   "metadata": {},
   "source": [
    "# 규모별 전국 평균 분양가격"
   ]
  },
  {
   "cell_type": "code",
   "execution_count": 127,
   "metadata": {},
   "outputs": [],
   "source": [
    "pre_sale.pivot_table?"
   ]
  },
  {
   "cell_type": "code",
   "execution_count": 128,
   "metadata": {},
   "outputs": [
    {
     "data": {
      "text/html": [
       "<div>\n",
       "<style scoped>\n",
       "    .dataframe tbody tr th:only-of-type {\n",
       "        vertical-align: middle;\n",
       "    }\n",
       "\n",
       "    .dataframe tbody tr th {\n",
       "        vertical-align: top;\n",
       "    }\n",
       "\n",
       "    .dataframe thead th {\n",
       "        text-align: right;\n",
       "    }\n",
       "</style>\n",
       "<table border=\"1\" class=\"dataframe\">\n",
       "  <thead>\n",
       "    <tr style=\"text-align: right;\">\n",
       "      <th>연도</th>\n",
       "      <th>2015</th>\n",
       "      <th>2016</th>\n",
       "      <th>2017</th>\n",
       "      <th>2018</th>\n",
       "    </tr>\n",
       "    <tr>\n",
       "      <th>규모구분</th>\n",
       "      <th></th>\n",
       "      <th></th>\n",
       "      <th></th>\n",
       "      <th></th>\n",
       "    </tr>\n",
       "  </thead>\n",
       "  <tbody>\n",
       "    <tr>\n",
       "      <th>전용면적 102㎡초과</th>\n",
       "      <td>9,837</td>\n",
       "      <td>10,389</td>\n",
       "      <td>11,334</td>\n",
       "      <td>11,235</td>\n",
       "    </tr>\n",
       "    <tr>\n",
       "      <th>전용면적 60㎡이하</th>\n",
       "      <td>8,952</td>\n",
       "      <td>9,399</td>\n",
       "      <td>10,246</td>\n",
       "      <td>10,912</td>\n",
       "    </tr>\n",
       "    <tr>\n",
       "      <th>전용면적 60㎡초과 85㎡이하</th>\n",
       "      <td>8,892</td>\n",
       "      <td>9,296</td>\n",
       "      <td>9,825</td>\n",
       "      <td>10,464</td>\n",
       "    </tr>\n",
       "    <tr>\n",
       "      <th>전용면적 85㎡초과 102㎡이하</th>\n",
       "      <td>9,519</td>\n",
       "      <td>10,122</td>\n",
       "      <td>10,540</td>\n",
       "      <td>11,483</td>\n",
       "    </tr>\n",
       "    <tr>\n",
       "      <th>전체</th>\n",
       "      <td>8,893</td>\n",
       "      <td>9,293</td>\n",
       "      <td>9,901</td>\n",
       "      <td>10,563</td>\n",
       "    </tr>\n",
       "  </tbody>\n",
       "</table>\n",
       "</div>"
      ],
      "text/plain": [
       "연도                 2015   2016   2017   2018\n",
       "규모구분                                        \n",
       "전용면적 102㎡초과       9,837 10,389 11,334 11,235\n",
       "전용면적 60㎡이하        8,952  9,399 10,246 10,912\n",
       "전용면적 60㎡초과 85㎡이하  8,892  9,296  9,825 10,464\n",
       "전용면적 85㎡초과 102㎡이하 9,519 10,122 10,540 11,483\n",
       "전체                8,893  9,293  9,901 10,563"
      ]
     },
     "execution_count": 128,
     "metadata": {},
     "output_type": "execute_result"
    }
   ],
   "source": [
    "pre_sale.pivot_table('평당분양가격', '규모구분', '연도') #디폴트는 (value,index,columns)임"
   ]
  },
  {
   "cell_type": "markdown",
   "metadata": {},
   "source": [
    "# 전국 분양가 변동금액\n",
    "규모구분이 전체로 되어있는 금액으로 연도별 변동금액을 살펴봅니다."
   ]
  },
  {
   "cell_type": "code",
   "execution_count": 129,
   "metadata": {},
   "outputs": [
    {
     "data": {
      "text/html": [
       "<div>\n",
       "<style scoped>\n",
       "    .dataframe tbody tr th:only-of-type {\n",
       "        vertical-align: middle;\n",
       "    }\n",
       "\n",
       "    .dataframe tbody tr th {\n",
       "        vertical-align: top;\n",
       "    }\n",
       "\n",
       "    .dataframe thead th {\n",
       "        text-align: right;\n",
       "    }\n",
       "</style>\n",
       "<table border=\"1\" class=\"dataframe\">\n",
       "  <thead>\n",
       "    <tr style=\"text-align: right;\">\n",
       "      <th>연도</th>\n",
       "      <th>지역명</th>\n",
       "      <th>2015</th>\n",
       "      <th>2016</th>\n",
       "      <th>2017</th>\n",
       "      <th>2018</th>\n",
       "    </tr>\n",
       "  </thead>\n",
       "  <tbody>\n",
       "    <tr>\n",
       "      <th>0</th>\n",
       "      <td>강원</td>\n",
       "      <td>7,160</td>\n",
       "      <td>7,011</td>\n",
       "      <td>7,127</td>\n",
       "      <td>7,641</td>\n",
       "    </tr>\n",
       "    <tr>\n",
       "      <th>1</th>\n",
       "      <td>경기</td>\n",
       "      <td>10,377</td>\n",
       "      <td>11,220</td>\n",
       "      <td>11,850</td>\n",
       "      <td>12,881</td>\n",
       "    </tr>\n",
       "    <tr>\n",
       "      <th>2</th>\n",
       "      <td>경남</td>\n",
       "      <td>7,586</td>\n",
       "      <td>7,848</td>\n",
       "      <td>8,120</td>\n",
       "      <td>8,894</td>\n",
       "    </tr>\n",
       "    <tr>\n",
       "      <th>3</th>\n",
       "      <td>경북</td>\n",
       "      <td>7,171</td>\n",
       "      <td>7,361</td>\n",
       "      <td>7,795</td>\n",
       "      <td>8,342</td>\n",
       "    </tr>\n",
       "    <tr>\n",
       "      <th>4</th>\n",
       "      <td>광주</td>\n",
       "      <td>8,052</td>\n",
       "      <td>8,899</td>\n",
       "      <td>9,464</td>\n",
       "      <td>9,638</td>\n",
       "    </tr>\n",
       "    <tr>\n",
       "      <th>5</th>\n",
       "      <td>대구</td>\n",
       "      <td>9,232</td>\n",
       "      <td>10,310</td>\n",
       "      <td>11,456</td>\n",
       "      <td>11,737</td>\n",
       "    </tr>\n",
       "    <tr>\n",
       "      <th>6</th>\n",
       "      <td>대전</td>\n",
       "      <td>8,098</td>\n",
       "      <td>8,502</td>\n",
       "      <td>9,045</td>\n",
       "      <td>9,604</td>\n",
       "    </tr>\n",
       "    <tr>\n",
       "      <th>7</th>\n",
       "      <td>부산</td>\n",
       "      <td>10,307</td>\n",
       "      <td>10,430</td>\n",
       "      <td>11,578</td>\n",
       "      <td>12,756</td>\n",
       "    </tr>\n",
       "    <tr>\n",
       "      <th>8</th>\n",
       "      <td>서울</td>\n",
       "      <td>19,725</td>\n",
       "      <td>20,663</td>\n",
       "      <td>21,376</td>\n",
       "      <td>22,329</td>\n",
       "    </tr>\n",
       "    <tr>\n",
       "      <th>9</th>\n",
       "      <td>세종</td>\n",
       "      <td>8,750</td>\n",
       "      <td>8,860</td>\n",
       "      <td>9,135</td>\n",
       "      <td>10,375</td>\n",
       "    </tr>\n",
       "    <tr>\n",
       "      <th>10</th>\n",
       "      <td>울산</td>\n",
       "      <td>10,053</td>\n",
       "      <td>10,209</td>\n",
       "      <td>11,345</td>\n",
       "      <td>10,422</td>\n",
       "    </tr>\n",
       "    <tr>\n",
       "      <th>11</th>\n",
       "      <td>인천</td>\n",
       "      <td>10,484</td>\n",
       "      <td>10,532</td>\n",
       "      <td>10,737</td>\n",
       "      <td>11,205</td>\n",
       "    </tr>\n",
       "    <tr>\n",
       "      <th>12</th>\n",
       "      <td>전남</td>\n",
       "      <td>6,317</td>\n",
       "      <td>6,489</td>\n",
       "      <td>7,188</td>\n",
       "      <td>7,792</td>\n",
       "    </tr>\n",
       "    <tr>\n",
       "      <th>13</th>\n",
       "      <td>전북</td>\n",
       "      <td>6,703</td>\n",
       "      <td>6,418</td>\n",
       "      <td>7,058</td>\n",
       "      <td>7,573</td>\n",
       "    </tr>\n",
       "    <tr>\n",
       "      <th>14</th>\n",
       "      <td>제주</td>\n",
       "      <td>7,405</td>\n",
       "      <td>9,129</td>\n",
       "      <td>10,831</td>\n",
       "      <td>12,492</td>\n",
       "    </tr>\n",
       "    <tr>\n",
       "      <th>15</th>\n",
       "      <td>충남</td>\n",
       "      <td>7,115</td>\n",
       "      <td>7,331</td>\n",
       "      <td>7,456</td>\n",
       "      <td>7,997</td>\n",
       "    </tr>\n",
       "    <tr>\n",
       "      <th>16</th>\n",
       "      <td>충북</td>\n",
       "      <td>6,645</td>\n",
       "      <td>6,770</td>\n",
       "      <td>6,763</td>\n",
       "      <td>7,892</td>\n",
       "    </tr>\n",
       "  </tbody>\n",
       "</table>\n",
       "</div>"
      ],
      "text/plain": [
       "연도 지역명   2015   2016   2017   2018\n",
       "0   강원  7,160  7,011  7,127  7,641\n",
       "1   경기 10,377 11,220 11,850 12,881\n",
       "2   경남  7,586  7,848  8,120  8,894\n",
       "3   경북  7,171  7,361  7,795  8,342\n",
       "4   광주  8,052  8,899  9,464  9,638\n",
       "5   대구  9,232 10,310 11,456 11,737\n",
       "6   대전  8,098  8,502  9,045  9,604\n",
       "7   부산 10,307 10,430 11,578 12,756\n",
       "8   서울 19,725 20,663 21,376 22,329\n",
       "9   세종  8,750  8,860  9,135 10,375\n",
       "10  울산 10,053 10,209 11,345 10,422\n",
       "11  인천 10,484 10,532 10,737 11,205\n",
       "12  전남  6,317  6,489  7,188  7,792\n",
       "13  전북  6,703  6,418  7,058  7,573\n",
       "14  제주  7,405  9,129 10,831 12,492\n",
       "15  충남  7,115  7,331  7,456  7,997\n",
       "16  충북  6,645  6,770  6,763  7,892"
      ]
     },
     "execution_count": 129,
     "metadata": {},
     "output_type": "execute_result"
    }
   ],
   "source": [
    "# 규모구분에서 전체로 되어있는 데이터만 가져온다.\n",
    "region_year_all = pre_sale.loc[pre_sale['규모구분'] == '전체'] #loc->행 뽑음('전체'에 해당하는 모든 열 다 가져옴)\n",
    "region_year = region_year_all.pivot_table('평당분양가격', '지역명', '연도').reset_index()\n",
    "#index를 리셋해서 column의 rows(연도,지역명)를 하나로 만듦 \n",
    "region_year"
   ]
  },
  {
   "cell_type": "code",
   "execution_count": 130,
   "metadata": {},
   "outputs": [
    {
     "name": "stdout",
     "output_type": "stream",
     "text": [
      "2015년부터 2018년까지 분양가는 계속 상승했으며, 상승액이 가장 큰 지역은 제주이며 상승액은 평당 5,087,000원이다.\n",
      "상승액이 가장 작은 지역은 울산이며 평당 369,000원이다.\n",
      "하지만 나중에 살펴보겠지만 울산에는 결측치가 많다. 따라서 변동액이 가장 작다라고 판단하기 어렵다.\n",
      "전국 평균 변동액은 평당 1,669,588원이다.\n"
     ]
    },
    {
     "data": {
      "text/html": [
       "<div>\n",
       "<style scoped>\n",
       "    .dataframe tbody tr th:only-of-type {\n",
       "        vertical-align: middle;\n",
       "    }\n",
       "\n",
       "    .dataframe tbody tr th {\n",
       "        vertical-align: top;\n",
       "    }\n",
       "\n",
       "    .dataframe thead th {\n",
       "        text-align: right;\n",
       "    }\n",
       "</style>\n",
       "<table border=\"1\" class=\"dataframe\">\n",
       "  <thead>\n",
       "    <tr style=\"text-align: right;\">\n",
       "      <th>연도</th>\n",
       "      <th>지역명</th>\n",
       "      <th>2015</th>\n",
       "      <th>2016</th>\n",
       "      <th>2017</th>\n",
       "      <th>2018</th>\n",
       "      <th>변동액</th>\n",
       "    </tr>\n",
       "  </thead>\n",
       "  <tbody>\n",
       "    <tr>\n",
       "      <th>0</th>\n",
       "      <td>강원</td>\n",
       "      <td>7,160</td>\n",
       "      <td>7,011</td>\n",
       "      <td>7,127</td>\n",
       "      <td>7,641</td>\n",
       "      <td>481</td>\n",
       "    </tr>\n",
       "    <tr>\n",
       "      <th>1</th>\n",
       "      <td>경기</td>\n",
       "      <td>10,377</td>\n",
       "      <td>11,220</td>\n",
       "      <td>11,850</td>\n",
       "      <td>12,881</td>\n",
       "      <td>2503</td>\n",
       "    </tr>\n",
       "    <tr>\n",
       "      <th>2</th>\n",
       "      <td>경남</td>\n",
       "      <td>7,586</td>\n",
       "      <td>7,848</td>\n",
       "      <td>8,120</td>\n",
       "      <td>8,894</td>\n",
       "      <td>1308</td>\n",
       "    </tr>\n",
       "    <tr>\n",
       "      <th>3</th>\n",
       "      <td>경북</td>\n",
       "      <td>7,171</td>\n",
       "      <td>7,361</td>\n",
       "      <td>7,795</td>\n",
       "      <td>8,342</td>\n",
       "      <td>1171</td>\n",
       "    </tr>\n",
       "    <tr>\n",
       "      <th>4</th>\n",
       "      <td>광주</td>\n",
       "      <td>8,052</td>\n",
       "      <td>8,899</td>\n",
       "      <td>9,464</td>\n",
       "      <td>9,638</td>\n",
       "      <td>1585</td>\n",
       "    </tr>\n",
       "    <tr>\n",
       "      <th>5</th>\n",
       "      <td>대구</td>\n",
       "      <td>9,232</td>\n",
       "      <td>10,310</td>\n",
       "      <td>11,456</td>\n",
       "      <td>11,737</td>\n",
       "      <td>2504</td>\n",
       "    </tr>\n",
       "    <tr>\n",
       "      <th>6</th>\n",
       "      <td>대전</td>\n",
       "      <td>8,098</td>\n",
       "      <td>8,502</td>\n",
       "      <td>9,045</td>\n",
       "      <td>9,604</td>\n",
       "      <td>1506</td>\n",
       "    </tr>\n",
       "    <tr>\n",
       "      <th>7</th>\n",
       "      <td>부산</td>\n",
       "      <td>10,307</td>\n",
       "      <td>10,430</td>\n",
       "      <td>11,578</td>\n",
       "      <td>12,756</td>\n",
       "      <td>2449</td>\n",
       "    </tr>\n",
       "    <tr>\n",
       "      <th>8</th>\n",
       "      <td>서울</td>\n",
       "      <td>19,725</td>\n",
       "      <td>20,663</td>\n",
       "      <td>21,376</td>\n",
       "      <td>22,329</td>\n",
       "      <td>2603</td>\n",
       "    </tr>\n",
       "    <tr>\n",
       "      <th>9</th>\n",
       "      <td>세종</td>\n",
       "      <td>8,750</td>\n",
       "      <td>8,860</td>\n",
       "      <td>9,135</td>\n",
       "      <td>10,375</td>\n",
       "      <td>1624</td>\n",
       "    </tr>\n",
       "    <tr>\n",
       "      <th>10</th>\n",
       "      <td>울산</td>\n",
       "      <td>10,053</td>\n",
       "      <td>10,209</td>\n",
       "      <td>11,345</td>\n",
       "      <td>10,422</td>\n",
       "      <td>369</td>\n",
       "    </tr>\n",
       "    <tr>\n",
       "      <th>11</th>\n",
       "      <td>인천</td>\n",
       "      <td>10,484</td>\n",
       "      <td>10,532</td>\n",
       "      <td>10,737</td>\n",
       "      <td>11,205</td>\n",
       "      <td>721</td>\n",
       "    </tr>\n",
       "    <tr>\n",
       "      <th>12</th>\n",
       "      <td>전남</td>\n",
       "      <td>6,317</td>\n",
       "      <td>6,489</td>\n",
       "      <td>7,188</td>\n",
       "      <td>7,792</td>\n",
       "      <td>1474</td>\n",
       "    </tr>\n",
       "    <tr>\n",
       "      <th>13</th>\n",
       "      <td>전북</td>\n",
       "      <td>6,703</td>\n",
       "      <td>6,418</td>\n",
       "      <td>7,058</td>\n",
       "      <td>7,573</td>\n",
       "      <td>869</td>\n",
       "    </tr>\n",
       "    <tr>\n",
       "      <th>14</th>\n",
       "      <td>제주</td>\n",
       "      <td>7,405</td>\n",
       "      <td>9,129</td>\n",
       "      <td>10,831</td>\n",
       "      <td>12,492</td>\n",
       "      <td>5087</td>\n",
       "    </tr>\n",
       "    <tr>\n",
       "      <th>15</th>\n",
       "      <td>충남</td>\n",
       "      <td>7,115</td>\n",
       "      <td>7,331</td>\n",
       "      <td>7,456</td>\n",
       "      <td>7,997</td>\n",
       "      <td>882</td>\n",
       "    </tr>\n",
       "    <tr>\n",
       "      <th>16</th>\n",
       "      <td>충북</td>\n",
       "      <td>6,645</td>\n",
       "      <td>6,770</td>\n",
       "      <td>6,763</td>\n",
       "      <td>7,892</td>\n",
       "      <td>1247</td>\n",
       "    </tr>\n",
       "  </tbody>\n",
       "</table>\n",
       "</div>"
      ],
      "text/plain": [
       "연도 지역명   2015   2016   2017   2018   변동액\n",
       "0   강원  7,160  7,011  7,127  7,641   481\n",
       "1   경기 10,377 11,220 11,850 12,881  2503\n",
       "2   경남  7,586  7,848  8,120  8,894  1308\n",
       "3   경북  7,171  7,361  7,795  8,342  1171\n",
       "4   광주  8,052  8,899  9,464  9,638  1585\n",
       "5   대구  9,232 10,310 11,456 11,737  2504\n",
       "6   대전  8,098  8,502  9,045  9,604  1506\n",
       "7   부산 10,307 10,430 11,578 12,756  2449\n",
       "8   서울 19,725 20,663 21,376 22,329  2603\n",
       "9   세종  8,750  8,860  9,135 10,375  1624\n",
       "10  울산 10,053 10,209 11,345 10,422   369\n",
       "11  인천 10,484 10,532 10,737 11,205   721\n",
       "12  전남  6,317  6,489  7,188  7,792  1474\n",
       "13  전북  6,703  6,418  7,058  7,573   869\n",
       "14  제주  7,405  9,129 10,831 12,492  5087\n",
       "15  충남  7,115  7,331  7,456  7,997   882\n",
       "16  충북  6,645  6,770  6,763  7,892  1247"
      ]
     },
     "execution_count": 130,
     "metadata": {},
     "output_type": "execute_result"
    }
   ],
   "source": [
    "region_year['변동액'] = (region_year['2018'] - region_year['2015']).astype(int)\n",
    "max_delta_price = np.max(region_year['변동액'])*1000 #단위가 천원 단위라 1000곱해준거임\n",
    "min_delta_price = np.min(region_year['변동액'])*1000\n",
    "mean_delta_price = np.mean(region_year['변동액'])*1000\n",
    "\n",
    "print('2015년부터 2018년까지 분양가는 계속 상승했으며, 상승액이 가장 큰 지역은 제주이며 상승액은 평당 {:,.0f}원이다.'.format(max_delta_price))\n",
    "print('상승액이 가장 작은 지역은 울산이며 평당 {:,.0f}원이다.'.format(min_delta_price))\n",
    "print('하지만 나중에 살펴보겠지만 울산에는 결측치가 많다. 따라서 변동액이 가장 작다라고 판단하기 어렵다.')\n",
    "print('전국 평균 변동액은 평당 {:,.0f}원이다.'.format(mean_delta_price))\n",
    "\n",
    "region_year"
   ]
  },
  {
   "cell_type": "markdown",
   "metadata": {},
   "source": [
    "-지금까지 2015년 10월에서 2018년 7월까지의 21개월간의 전국 신규 민간 아파트 분양가격 동향 파일을 요약함\n",
    "\n",
    "-Pandas를 통해 데이터를 가져오고 요약해 보고 엑셀과 비슷하게 피봇테이블을 그려보기도 하고 groupby를 사용해서 데이터를 요약\n"
   ]
  },
  {
   "cell_type": "markdown",
   "metadata": {},
   "source": [
    "# 시각화"
   ]
  },
  {
   "cell_type": "markdown",
   "metadata": {},
   "source": [
    "# 연도별 변동 그래프\n",
    "공공데이터포털에서 제공하고 있는 평균 분양가격을 연도, 지역별로 그려보자"
   ]
  },
  {
   "cell_type": "code",
   "execution_count": 133,
   "metadata": {
    "scrolled": true
   },
   "outputs": [
    {
     "data": {
      "image/png": "[encoded data removed]",
      "text/plain": [
       "<Figure size 800x400 with 1 Axes>"
      ]
     },
     "metadata": {},
     "output_type": "display_data"
    },
    {
     "data": {
      "text/plain": [
       "<ggplot: (-9223371887581138572)>"
      ]
     },
     "execution_count": 133,
     "metadata": {},
     "output_type": "execute_result"
    }
   ],
   "source": [
    "(ggplot(region_year_all, aes(x='지역명', y='평당분양가격', fill='연도'))\n",
    " + geom_bar(stat='identity', position='dodge')\n",
    " + ggtitle('2015-2018년 신규 민간 아파트 분양가격')\n",
    " + theme(text=element_text(family=font_name),\n",
    "        figure_size=(8, 4))\n",
    ")"
   ]
  },
  {
   "cell_type": "markdown",
   "metadata": {},
   "source": [
    "# 지역별 평당 분양가격 합계\n",
    "-아래 데이터로 어느정도 규모로 분양사업이 이루어졌는지 보기 .\n",
    "\n",
    "-전체 데이터로 봤을 때 서울, 경기, 부산, 제주에 분양 사업이 다른 지역에 비해 규모가 큰 것으로 보여지지만 분양가격대비로 나눠볼 필요 있음."
   ]
  },
  {
   "cell_type": "code",
   "execution_count": 135,
   "metadata": {},
   "outputs": [
    {
     "data": {
      "text/html": [
       "<div>\n",
       "<style scoped>\n",
       "    .dataframe tbody tr th:only-of-type {\n",
       "        vertical-align: middle;\n",
       "    }\n",
       "\n",
       "    .dataframe tbody tr th {\n",
       "        vertical-align: top;\n",
       "    }\n",
       "\n",
       "    .dataframe thead th {\n",
       "        text-align: right;\n",
       "    }\n",
       "</style>\n",
       "<table border=\"1\" class=\"dataframe\">\n",
       "  <thead>\n",
       "    <tr style=\"text-align: right;\">\n",
       "      <th>지역명</th>\n",
       "      <th>강원</th>\n",
       "      <th>경기</th>\n",
       "      <th>경남</th>\n",
       "      <th>경북</th>\n",
       "      <th>광주</th>\n",
       "      <th>대구</th>\n",
       "      <th>대전</th>\n",
       "      <th>부산</th>\n",
       "      <th>서울</th>\n",
       "      <th>세종</th>\n",
       "      <th>울산</th>\n",
       "      <th>인천</th>\n",
       "      <th>전남</th>\n",
       "      <th>전북</th>\n",
       "      <th>제주</th>\n",
       "      <th>충남</th>\n",
       "      <th>충북</th>\n",
       "    </tr>\n",
       "    <tr>\n",
       "      <th>규모구분</th>\n",
       "      <th></th>\n",
       "      <th></th>\n",
       "      <th></th>\n",
       "      <th></th>\n",
       "      <th></th>\n",
       "      <th></th>\n",
       "      <th></th>\n",
       "      <th></th>\n",
       "      <th></th>\n",
       "      <th></th>\n",
       "      <th></th>\n",
       "      <th></th>\n",
       "      <th></th>\n",
       "      <th></th>\n",
       "      <th></th>\n",
       "      <th></th>\n",
       "      <th></th>\n",
       "    </tr>\n",
       "  </thead>\n",
       "  <tbody>\n",
       "    <tr>\n",
       "      <th>전용면적 102㎡초과</th>\n",
       "      <td>7,899</td>\n",
       "      <td>13,647</td>\n",
       "      <td>9,226</td>\n",
       "      <td>8,616</td>\n",
       "      <td>10,296</td>\n",
       "      <td>12,334</td>\n",
       "      <td>14,282</td>\n",
       "      <td>12,590</td>\n",
       "      <td>22,058</td>\n",
       "      <td>9,292</td>\n",
       "      <td>9,974</td>\n",
       "      <td>13,836</td>\n",
       "      <td>7,568</td>\n",
       "      <td>7,842</td>\n",
       "      <td>10,416</td>\n",
       "      <td>8,478</td>\n",
       "      <td>7,933</td>\n",
       "    </tr>\n",
       "    <tr>\n",
       "      <th>전용면적 60㎡이하</th>\n",
       "      <td>7,195</td>\n",
       "      <td>12,385</td>\n",
       "      <td>8,343</td>\n",
       "      <td>7,661</td>\n",
       "      <td>8,518</td>\n",
       "      <td>11,285</td>\n",
       "      <td>8,798</td>\n",
       "      <td>10,707</td>\n",
       "      <td>22,046</td>\n",
       "      <td>9,107</td>\n",
       "      <td>8,965</td>\n",
       "      <td>10,870</td>\n",
       "      <td>6,991</td>\n",
       "      <td>7,232</td>\n",
       "      <td>14,700</td>\n",
       "      <td>7,782</td>\n",
       "      <td>6,969</td>\n",
       "    </tr>\n",
       "    <tr>\n",
       "      <th>전용면적 60㎡초과 85㎡이하</th>\n",
       "      <td>7,228</td>\n",
       "      <td>11,691</td>\n",
       "      <td>8,110</td>\n",
       "      <td>7,690</td>\n",
       "      <td>9,176</td>\n",
       "      <td>10,931</td>\n",
       "      <td>8,807</td>\n",
       "      <td>11,191</td>\n",
       "      <td>20,781</td>\n",
       "      <td>9,272</td>\n",
       "      <td>10,641</td>\n",
       "      <td>10,748</td>\n",
       "      <td>6,968</td>\n",
       "      <td>6,891</td>\n",
       "      <td>9,943</td>\n",
       "      <td>7,504</td>\n",
       "      <td>7,044</td>\n",
       "    </tr>\n",
       "    <tr>\n",
       "      <th>전용면적 85㎡초과 102㎡이하</th>\n",
       "      <td>7,686</td>\n",
       "      <td>12,130</td>\n",
       "      <td>9,822</td>\n",
       "      <td>8,776</td>\n",
       "      <td>9,296</td>\n",
       "      <td>9,589</td>\n",
       "      <td>9,037</td>\n",
       "      <td>11,039</td>\n",
       "      <td>23,754</td>\n",
       "      <td>9,245</td>\n",
       "      <td>8,861</td>\n",
       "      <td>11,267</td>\n",
       "      <td>7,882</td>\n",
       "      <td>7,770</td>\n",
       "      <td>10,739</td>\n",
       "      <td>9,090</td>\n",
       "      <td>8,171</td>\n",
       "    </tr>\n",
       "    <tr>\n",
       "      <th>전체</th>\n",
       "      <td>7,197</td>\n",
       "      <td>11,706</td>\n",
       "      <td>8,137</td>\n",
       "      <td>7,696</td>\n",
       "      <td>9,167</td>\n",
       "      <td>10,897</td>\n",
       "      <td>8,880</td>\n",
       "      <td>11,295</td>\n",
       "      <td>21,169</td>\n",
       "      <td>9,263</td>\n",
       "      <td>10,619</td>\n",
       "      <td>10,739</td>\n",
       "      <td>6,982</td>\n",
       "      <td>6,902</td>\n",
       "      <td>10,253</td>\n",
       "      <td>7,494</td>\n",
       "      <td>6,994</td>\n",
       "    </tr>\n",
       "  </tbody>\n",
       "</table>\n",
       "</div>"
      ],
      "text/plain": [
       "지역명                  강원     경기    경남    경북     광주     대구     대전     부산     서울  \\\n",
       "규모구분                                                                            \n",
       "전용면적 102㎡초과       7,899 13,647 9,226 8,616 10,296 12,334 14,282 12,590 22,058   \n",
       "전용면적 60㎡이하        7,195 12,385 8,343 7,661  8,518 11,285  8,798 10,707 22,046   \n",
       "전용면적 60㎡초과 85㎡이하  7,228 11,691 8,110 7,690  9,176 10,931  8,807 11,191 20,781   \n",
       "전용면적 85㎡초과 102㎡이하 7,686 12,130 9,822 8,776  9,296  9,589  9,037 11,039 23,754   \n",
       "전체                7,197 11,706 8,137 7,696  9,167 10,897  8,880 11,295 21,169   \n",
       "\n",
       "지역명                  세종     울산     인천    전남    전북     제주    충남    충북  \n",
       "규모구분                                                                  \n",
       "전용면적 102㎡초과       9,292  9,974 13,836 7,568 7,842 10,416 8,478 7,933  \n",
       "전용면적 60㎡이하        9,107  8,965 10,870 6,991 7,232 14,700 7,782 6,969  \n",
       "전용면적 60㎡초과 85㎡이하  9,272 10,641 10,748 6,968 6,891  9,943 7,504 7,044  \n",
       "전용면적 85㎡초과 102㎡이하 9,245  8,861 11,267 7,882 7,770 10,739 9,090 8,171  \n",
       "전체                9,263 10,619 10,739 6,982 6,902 10,253 7,494 6,994  "
      ]
     },
     "execution_count": 135,
     "metadata": {},
     "output_type": "execute_result"
    }
   ],
   "source": [
    "pre_sale.pivot_table('평당분양가격', '규모구분', '지역명')"
   ]
  },
  {
   "cell_type": "markdown",
   "metadata": {},
   "source": [
    "## 규모별"
   ]
  },
  {
   "cell_type": "code",
   "execution_count": 137,
   "metadata": {},
   "outputs": [
    {
     "data": {
      "image/png": "[encoded data removed]",
      "text/plain": [
       "<Figure size 800x400 with 1 Axes>"
      ]
     },
     "metadata": {},
     "output_type": "display_data"
    },
    {
     "data": {
      "text/plain": [
       "<ggplot: (-9223371887581115227)>"
      ]
     },
     "execution_count": 137,
     "metadata": {},
     "output_type": "execute_result"
    }
   ],
   "source": [
    "# 서울의 경우 전용면적 85㎡초과 102㎡이하가 분양가격이 가장 비싸게 나옴.\n",
    "(ggplot(pre_sale, aes(x='지역명', y='평당분양가격', fill='규모구분'))\n",
    " + geom_bar(stat='identity', position='dodge')\n",
    " + ggtitle('규모별 신규 민간 아파트 분양가격')\n",
    " + theme(text=element_text(family=font_name),\n",
    "         figure_size=(8, 4))\n",
    ")"
   ]
  },
  {
   "cell_type": "code",
   "execution_count": 138,
   "metadata": {},
   "outputs": [
    {
     "data": {
      "image/png": "[encoded data removed]",
      "text/plain": [
       "<Figure size 1200x1200 with 17 Axes>"
      ]
     },
     "metadata": {},
     "output_type": "display_data"
    },
    {
     "data": {
      "text/plain": [
       "<ggplot: (149273887636)>"
      ]
     },
     "execution_count": 138,
     "metadata": {},
     "output_type": "execute_result"
    }
   ],
   "source": [
    "# 위에 그린 그래프 지역별로 나눠보기.\n",
    "(ggplot(pre_sale)\n",
    " + aes(x='연도', y='평당분양가격', fill='규모구분')\n",
    " + geom_bar(stat='identity', position='dodge')\n",
    " + facet_wrap('지역명')\n",
    " + theme(text=element_text(family=font_name),\n",
    "         axis_text_x=element_text(rotation=70),\n",
    "         figure_size=(12, 12))\n",
    ")"
   ]
  },
  {
   "cell_type": "code",
   "execution_count": 139,
   "metadata": {},
   "outputs": [
    {
     "data": {
      "image/png": "[encoded data removed]",
      "text/plain": [
       "<Figure size 1200x600 with 1 Axes>"
      ]
     },
     "metadata": {},
     "output_type": "display_data"
    },
    {
     "data": {
      "text/plain": [
       "<ggplot: (149273888688)>"
      ]
     },
     "execution_count": 139,
     "metadata": {},
     "output_type": "execute_result"
    }
   ],
   "source": [
    "# 박스플롯 그리기.\n",
    "(ggplot(pre_sale, aes(x='지역명', y='평당분양가격', fill='규모구분'))\n",
    " + geom_boxplot()\n",
    " + ggtitle('전국 규모별 신규 민간 아파트 분양가격')\n",
    " + theme(text=element_text(family=font_name),\n",
    "         figure_size=(12, 6))\n",
    ")"
   ]
  },
  {
   "cell_type": "code",
   "execution_count": 140,
   "metadata": {},
   "outputs": [
    {
     "data": {
      "image/png": "[encoded data removed]",
      "text/plain": [
       "<Figure size 640x480 with 1 Axes>"
      ]
     },
     "metadata": {},
     "output_type": "display_data"
    },
    {
     "data": {
      "text/plain": [
       "<ggplot: (149275997574)>"
      ]
     },
     "execution_count": 140,
     "metadata": {},
     "output_type": "execute_result"
    }
   ],
   "source": [
    "pre_sale_seoul = pre_sale.loc[pre_sale['지역명']=='서울']\n",
    "(ggplot(pre_sale_seoul)\n",
    " + aes(x='연도', y='평당분양가격', fill='규모구분')\n",
    " + ggtitle('서울 연도/규모별 신규 민간 아파트 분양가격')\n",
    " + geom_boxplot()\n",
    " + theme(text=element_text(family=font_name))\n",
    ")\n"
   ]
  },
  {
   "cell_type": "code",
   "execution_count": 141,
   "metadata": {},
   "outputs": [
    {
     "data": {
      "image/png": "[encoded data removed]",
      "text/plain": [
       "<Figure size 640x480 with 1 Axes>"
      ]
     },
     "metadata": {},
     "output_type": "display_data"
    },
    {
     "data": {
      "text/plain": [
       "<ggplot: (-9223371887580890515)>"
      ]
     },
     "execution_count": 141,
     "metadata": {},
     "output_type": "execute_result"
    }
   ],
   "source": [
    "# 2015년에서 2018년까지 분양가 차이가 가장 컸던 제주\n",
    "(ggplot(pre_sale.loc[pre_sale['지역명']=='제주'])\n",
    " + aes(x='연도', y='평당분양가격', fill='규모구분')\n",
    " + geom_boxplot()\n",
    " + theme(text=element_text(family=font_name))\n",
    ")"
   ]
  },
  {
   "cell_type": "code",
   "execution_count": 142,
   "metadata": {},
   "outputs": [
    {
     "data": {
      "image/png": "[encoded data removed]",
      "text/plain": [
       "<Figure size 640x480 with 1 Axes>"
      ]
     },
     "metadata": {},
     "output_type": "display_data"
    },
    {
     "data": {
      "text/plain": [
       "<ggplot: (149273887906)>"
      ]
     },
     "execution_count": 142,
     "metadata": {},
     "output_type": "execute_result"
    }
   ],
   "source": [
    "# 2015년에서 2018년까지 분양가 차이가 가장 작았던 울산.\n",
    "# 실제로는 분양가 차이가 적은 것이 아니라 결측치로 인해 분양가 차이가 적게 보인것이였음.\n",
    "(ggplot(pre_sale.loc[pre_sale['지역명']=='울산'])\n",
    " + aes(x='연도', y='평당분양가격', fill='규모구분')\n",
    " + geom_boxplot()\n",
    " + theme(text=element_text(family=font_name))\n",
    ")"
   ]
  },
  {
   "cell_type": "markdown",
   "metadata": {},
   "source": [
    "# Tidy Data 만들기\n",
    "###### Tidy Data: 데이터 맞추기(데이터를 조작,모델링,시각화하기 편하게 만들어주는것)\n",
    "\n",
    "2013년 12월~2015년 9월 3.3㎡당 분양가격\n",
    "\n",
    "2015년 10월부터 2018년 4월까지 데이터는 평당 분양가로 조정을 해주었었는데 이 데이터는 평당 분양가가 들어가 있다.\n",
    "\n",
    "규모구분은 없으니까 지역,연도,월,분양가격을 맞춰주면 될것같음 "
   ]
  },
  {
   "cell_type": "code",
   "execution_count": 146,
   "metadata": {},
   "outputs": [
    {
     "data": {
      "text/plain": [
       "(23, 27)"
      ]
     },
     "execution_count": 146,
     "metadata": {},
     "output_type": "execute_result"
    }
   ],
   "source": [
    "df = pd.read_csv('data/apt_price/지역별_3.3㎡당_평균_분양가격_천원__15.09월.csv', \\\n",
    "                 encoding='euc-kr', skiprows=1, header=0) #윗줄의 필요없는 row하나 지움\n",
    "df.shape"
   ]
  },
  {
   "cell_type": "code",
   "execution_count": 209,
   "metadata": {},
   "outputs": [
    {
     "data": {
      "text/html": [
       "<div>\n",
       "<style scoped>\n",
       "    .dataframe tbody tr th:only-of-type {\n",
       "        vertical-align: middle;\n",
       "    }\n",
       "\n",
       "    .dataframe tbody tr th {\n",
       "        vertical-align: top;\n",
       "    }\n",
       "\n",
       "    .dataframe thead th {\n",
       "        text-align: right;\n",
       "    }\n",
       "</style>\n",
       "<table border=\"1\" class=\"dataframe\">\n",
       "  <thead>\n",
       "    <tr style=\"text-align: right;\">\n",
       "      <th></th>\n",
       "      <th>구분</th>\n",
       "      <th>시군구</th>\n",
       "      <th>2013년 12월</th>\n",
       "      <th>2014년 1월</th>\n",
       "      <th>2014년 2월</th>\n",
       "      <th>2014년 3월</th>\n",
       "      <th>2014년 4월</th>\n",
       "      <th>2014년 5월</th>\n",
       "      <th>2014년 6월</th>\n",
       "      <th>2014년 7월</th>\n",
       "      <th>...</th>\n",
       "      <th>2015년 4월</th>\n",
       "      <th>2015년 5월</th>\n",
       "      <th>2015년 6월</th>\n",
       "      <th>2015년 7월</th>\n",
       "      <th>2015년 8월</th>\n",
       "      <th>2015년 9월</th>\n",
       "      <th>2015년 전월비</th>\n",
       "      <th>2015년 전년말비</th>\n",
       "      <th>2015년 전년동월비</th>\n",
       "      <th>지역</th>\n",
       "    </tr>\n",
       "  </thead>\n",
       "  <tbody>\n",
       "    <tr>\n",
       "      <th>2</th>\n",
       "      <td>전국</td>\n",
       "      <td></td>\n",
       "      <td>8,059</td>\n",
       "      <td>8,130</td>\n",
       "      <td>8,195</td>\n",
       "      <td>8,204</td>\n",
       "      <td>8,289</td>\n",
       "      <td>8,358</td>\n",
       "      <td>8,344</td>\n",
       "      <td>8,333</td>\n",
       "      <td>...</td>\n",
       "      <td>8,613</td>\n",
       "      <td>8,624</td>\n",
       "      <td>8,627</td>\n",
       "      <td>8,643</td>\n",
       "      <td>8,678</td>\n",
       "      <td>8,665</td>\n",
       "      <td>-13</td>\n",
       "      <td>82</td>\n",
       "      <td>207</td>\n",
       "      <td>전국</td>\n",
       "    </tr>\n",
       "    <tr>\n",
       "      <th>3</th>\n",
       "      <td>서울</td>\n",
       "      <td></td>\n",
       "      <td>18,189</td>\n",
       "      <td>17,925</td>\n",
       "      <td>17,925</td>\n",
       "      <td>18,016</td>\n",
       "      <td>18,098</td>\n",
       "      <td>19,446</td>\n",
       "      <td>18,867</td>\n",
       "      <td>18,742</td>\n",
       "      <td>...</td>\n",
       "      <td>18,842</td>\n",
       "      <td>18,367</td>\n",
       "      <td>18,374</td>\n",
       "      <td>18,152</td>\n",
       "      <td>18,443</td>\n",
       "      <td>17,969</td>\n",
       "      <td>-474</td>\n",
       "      <td>-2,300</td>\n",
       "      <td>-1,434</td>\n",
       "      <td>서울</td>\n",
       "    </tr>\n",
       "    <tr>\n",
       "      <th>4</th>\n",
       "      <td>6대광역시</td>\n",
       "      <td>부산</td>\n",
       "      <td>8,111</td>\n",
       "      <td>8,111</td>\n",
       "      <td>9,078</td>\n",
       "      <td>8,965</td>\n",
       "      <td>9,402</td>\n",
       "      <td>9,501</td>\n",
       "      <td>9,453</td>\n",
       "      <td>9,457</td>\n",
       "      <td>...</td>\n",
       "      <td>9,327</td>\n",
       "      <td>9,345</td>\n",
       "      <td>9,515</td>\n",
       "      <td>9,559</td>\n",
       "      <td>9,581</td>\n",
       "      <td>9,608</td>\n",
       "      <td>1</td>\n",
       "      <td>430</td>\n",
       "      <td>477</td>\n",
       "      <td>6대광역시부산</td>\n",
       "    </tr>\n",
       "    <tr>\n",
       "      <th>5</th>\n",
       "      <td></td>\n",
       "      <td>대구</td>\n",
       "      <td>8,080</td>\n",
       "      <td>8,080</td>\n",
       "      <td>8,077</td>\n",
       "      <td>8,101</td>\n",
       "      <td>8,267</td>\n",
       "      <td>8,274</td>\n",
       "      <td>8,360</td>\n",
       "      <td>8,360</td>\n",
       "      <td>...</td>\n",
       "      <td>8,446</td>\n",
       "      <td>8,568</td>\n",
       "      <td>8,542</td>\n",
       "      <td>8,542</td>\n",
       "      <td>8,795</td>\n",
       "      <td>8,863</td>\n",
       "      <td>27</td>\n",
       "      <td>400</td>\n",
       "      <td>350</td>\n",
       "      <td>대구</td>\n",
       "    </tr>\n",
       "    <tr>\n",
       "      <th>6</th>\n",
       "      <td></td>\n",
       "      <td>인천</td>\n",
       "      <td>10,204</td>\n",
       "      <td>10,204</td>\n",
       "      <td>10,408</td>\n",
       "      <td>10,408</td>\n",
       "      <td>10,000</td>\n",
       "      <td>9,844</td>\n",
       "      <td>10,058</td>\n",
       "      <td>9,974</td>\n",
       "      <td>...</td>\n",
       "      <td>9,938</td>\n",
       "      <td>10,551</td>\n",
       "      <td>10,443</td>\n",
       "      <td>10,443</td>\n",
       "      <td>10,449</td>\n",
       "      <td>10,450</td>\n",
       "      <td>-162</td>\n",
       "      <td>-150</td>\n",
       "      <td>-131</td>\n",
       "      <td>인천</td>\n",
       "    </tr>\n",
       "    <tr>\n",
       "      <th>7</th>\n",
       "      <td></td>\n",
       "      <td>광주</td>\n",
       "      <td>6,098</td>\n",
       "      <td>7,326</td>\n",
       "      <td>7,611</td>\n",
       "      <td>7,346</td>\n",
       "      <td>7,346</td>\n",
       "      <td>7,523</td>\n",
       "      <td>7,659</td>\n",
       "      <td>7,612</td>\n",
       "      <td>...</td>\n",
       "      <td>7,914</td>\n",
       "      <td>7,877</td>\n",
       "      <td>7,881</td>\n",
       "      <td>8,089</td>\n",
       "      <td>8,231</td>\n",
       "      <td>8,083</td>\n",
       "      <td>-148</td>\n",
       "      <td>334</td>\n",
       "      <td>281</td>\n",
       "      <td>광주</td>\n",
       "    </tr>\n",
       "    <tr>\n",
       "      <th>8</th>\n",
       "      <td></td>\n",
       "      <td>대전</td>\n",
       "      <td>8,321</td>\n",
       "      <td>8,321</td>\n",
       "      <td>8,321</td>\n",
       "      <td>8,341</td>\n",
       "      <td>8,341</td>\n",
       "      <td>8,341</td>\n",
       "      <td>8,333</td>\n",
       "      <td>8,333</td>\n",
       "      <td>...</td>\n",
       "      <td>8,145</td>\n",
       "      <td>8,272</td>\n",
       "      <td>8,079</td>\n",
       "      <td>8,079</td>\n",
       "      <td>8,079</td>\n",
       "      <td>7,917</td>\n",
       "      <td>68</td>\n",
       "      <td>610</td>\n",
       "      <td>414</td>\n",
       "      <td>대전</td>\n",
       "    </tr>\n",
       "    <tr>\n",
       "      <th>9</th>\n",
       "      <td></td>\n",
       "      <td>울산</td>\n",
       "      <td>8,090</td>\n",
       "      <td>8,090</td>\n",
       "      <td>8,090</td>\n",
       "      <td>8,153</td>\n",
       "      <td>8,153</td>\n",
       "      <td>8,153</td>\n",
       "      <td>8,153</td>\n",
       "      <td>8,153</td>\n",
       "      <td>...</td>\n",
       "      <td>9,380</td>\n",
       "      <td>9,192</td>\n",
       "      <td>9,190</td>\n",
       "      <td>9,190</td>\n",
       "      <td>9,215</td>\n",
       "      <td>9,215</td>\n",
       "      <td>0</td>\n",
       "      <td>324</td>\n",
       "      <td>722</td>\n",
       "      <td>울산</td>\n",
       "    </tr>\n",
       "    <tr>\n",
       "      <th>10</th>\n",
       "      <td></td>\n",
       "      <td></td>\n",
       "      <td>8,151</td>\n",
       "      <td>8,355</td>\n",
       "      <td>8,597</td>\n",
       "      <td>8,552</td>\n",
       "      <td>8,585</td>\n",
       "      <td>8,606</td>\n",
       "      <td>8,669</td>\n",
       "      <td>8,648</td>\n",
       "      <td>...</td>\n",
       "      <td>8,858</td>\n",
       "      <td>8,967</td>\n",
       "      <td>8,942</td>\n",
       "      <td>8,984</td>\n",
       "      <td>9,058</td>\n",
       "      <td>9,023</td>\n",
       "      <td>-36</td>\n",
       "      <td>325</td>\n",
       "      <td>352</td>\n",
       "      <td></td>\n",
       "    </tr>\n",
       "    <tr>\n",
       "      <th>11</th>\n",
       "      <td>경기</td>\n",
       "      <td></td>\n",
       "      <td>10,855</td>\n",
       "      <td>10,855</td>\n",
       "      <td>10,791</td>\n",
       "      <td>10,784</td>\n",
       "      <td>10,876</td>\n",
       "      <td>10,646</td>\n",
       "      <td>10,266</td>\n",
       "      <td>10,124</td>\n",
       "      <td>...</td>\n",
       "      <td>10,684</td>\n",
       "      <td>10,685</td>\n",
       "      <td>10,573</td>\n",
       "      <td>10,518</td>\n",
       "      <td>10,573</td>\n",
       "      <td>10,341</td>\n",
       "      <td>-232</td>\n",
       "      <td>-38</td>\n",
       "      <td>-160</td>\n",
       "      <td>경기</td>\n",
       "    </tr>\n",
       "    <tr>\n",
       "      <th>12</th>\n",
       "      <td>수도권</td>\n",
       "      <td></td>\n",
       "      <td>13,083</td>\n",
       "      <td>12,995</td>\n",
       "      <td>13,041</td>\n",
       "      <td>13,069</td>\n",
       "      <td>12,991</td>\n",
       "      <td>13,312</td>\n",
       "      <td>13,064</td>\n",
       "      <td>12,947</td>\n",
       "      <td>...</td>\n",
       "      <td>13,155</td>\n",
       "      <td>13,201</td>\n",
       "      <td>13,130</td>\n",
       "      <td>13,038</td>\n",
       "      <td>13,155</td>\n",
       "      <td>12,920</td>\n",
       "      <td>-235</td>\n",
       "      <td>-636</td>\n",
       "      <td>-373</td>\n",
       "      <td>수도권</td>\n",
       "    </tr>\n",
       "    <tr>\n",
       "      <th>13</th>\n",
       "      <td>세종</td>\n",
       "      <td></td>\n",
       "      <td>7,601</td>\n",
       "      <td>7,600</td>\n",
       "      <td>7,532</td>\n",
       "      <td>7,814</td>\n",
       "      <td>7,908</td>\n",
       "      <td>7,934</td>\n",
       "      <td>8,067</td>\n",
       "      <td>8,067</td>\n",
       "      <td>...</td>\n",
       "      <td>8,546</td>\n",
       "      <td>8,546</td>\n",
       "      <td>8,671</td>\n",
       "      <td>8,669</td>\n",
       "      <td>8,695</td>\n",
       "      <td>8,715</td>\n",
       "      <td>20</td>\n",
       "      <td>155</td>\n",
       "      <td>434</td>\n",
       "      <td>세종</td>\n",
       "    </tr>\n",
       "    <tr>\n",
       "      <th>14</th>\n",
       "      <td>지방</td>\n",
       "      <td>강원</td>\n",
       "      <td>6,230</td>\n",
       "      <td>6,230</td>\n",
       "      <td>6,230</td>\n",
       "      <td>6,141</td>\n",
       "      <td>6,373</td>\n",
       "      <td>6,350</td>\n",
       "      <td>6,350</td>\n",
       "      <td>6,268</td>\n",
       "      <td>...</td>\n",
       "      <td>6,924</td>\n",
       "      <td>6,846</td>\n",
       "      <td>6,986</td>\n",
       "      <td>7,019</td>\n",
       "      <td>7,008</td>\n",
       "      <td>7,121</td>\n",
       "      <td>113</td>\n",
       "      <td>756</td>\n",
       "      <td>702</td>\n",
       "      <td>지방강원</td>\n",
       "    </tr>\n",
       "    <tr>\n",
       "      <th>15</th>\n",
       "      <td></td>\n",
       "      <td>충북</td>\n",
       "      <td>6,589</td>\n",
       "      <td>6,589</td>\n",
       "      <td>6,611</td>\n",
       "      <td>6,625</td>\n",
       "      <td>6,678</td>\n",
       "      <td>6,598</td>\n",
       "      <td>6,587</td>\n",
       "      <td>6,586</td>\n",
       "      <td>...</td>\n",
       "      <td>6,790</td>\n",
       "      <td>6,805</td>\n",
       "      <td>6,682</td>\n",
       "      <td>6,601</td>\n",
       "      <td>6,603</td>\n",
       "      <td>6,606</td>\n",
       "      <td>3</td>\n",
       "      <td>-137</td>\n",
       "      <td>22</td>\n",
       "      <td>충북</td>\n",
       "    </tr>\n",
       "    <tr>\n",
       "      <th>16</th>\n",
       "      <td></td>\n",
       "      <td>충남</td>\n",
       "      <td>6,365</td>\n",
       "      <td>6,365</td>\n",
       "      <td>6,379</td>\n",
       "      <td>6,287</td>\n",
       "      <td>6,552</td>\n",
       "      <td>6,591</td>\n",
       "      <td>6,644</td>\n",
       "      <td>6,805</td>\n",
       "      <td>...</td>\n",
       "      <td>7,017</td>\n",
       "      <td>6,975</td>\n",
       "      <td>6,939</td>\n",
       "      <td>6,935</td>\n",
       "      <td>6,942</td>\n",
       "      <td>6,939</td>\n",
       "      <td>-3</td>\n",
       "      <td>-50</td>\n",
       "      <td>57</td>\n",
       "      <td>충남</td>\n",
       "    </tr>\n",
       "    <tr>\n",
       "      <th>17</th>\n",
       "      <td></td>\n",
       "      <td>전북</td>\n",
       "      <td>6,282</td>\n",
       "      <td>6,281</td>\n",
       "      <td>5,946</td>\n",
       "      <td>5,966</td>\n",
       "      <td>6,277</td>\n",
       "      <td>6,306</td>\n",
       "      <td>6,351</td>\n",
       "      <td>6,319</td>\n",
       "      <td>...</td>\n",
       "      <td>6,551</td>\n",
       "      <td>6,556</td>\n",
       "      <td>6,601</td>\n",
       "      <td>6,750</td>\n",
       "      <td>6,580</td>\n",
       "      <td>6,885</td>\n",
       "      <td>304</td>\n",
       "      <td>301</td>\n",
       "      <td>165</td>\n",
       "      <td>전북</td>\n",
       "    </tr>\n",
       "    <tr>\n",
       "      <th>18</th>\n",
       "      <td></td>\n",
       "      <td>전남</td>\n",
       "      <td>5,678</td>\n",
       "      <td>5,678</td>\n",
       "      <td>5,678</td>\n",
       "      <td>5,696</td>\n",
       "      <td>5,736</td>\n",
       "      <td>5,656</td>\n",
       "      <td>5,609</td>\n",
       "      <td>5,780</td>\n",
       "      <td>...</td>\n",
       "      <td>5,940</td>\n",
       "      <td>6,050</td>\n",
       "      <td>6,243</td>\n",
       "      <td>6,286</td>\n",
       "      <td>6,289</td>\n",
       "      <td>6,245</td>\n",
       "      <td>-43</td>\n",
       "      <td>461</td>\n",
       "      <td>441</td>\n",
       "      <td>전남</td>\n",
       "    </tr>\n",
       "    <tr>\n",
       "      <th>19</th>\n",
       "      <td></td>\n",
       "      <td>경북</td>\n",
       "      <td>6,168</td>\n",
       "      <td>6,168</td>\n",
       "      <td>6,234</td>\n",
       "      <td>6,317</td>\n",
       "      <td>6,412</td>\n",
       "      <td>6,409</td>\n",
       "      <td>6,554</td>\n",
       "      <td>6,556</td>\n",
       "      <td>...</td>\n",
       "      <td>7,006</td>\n",
       "      <td>6,966</td>\n",
       "      <td>6,887</td>\n",
       "      <td>7,035</td>\n",
       "      <td>7,037</td>\n",
       "      <td>7,029</td>\n",
       "      <td>-9</td>\n",
       "      <td>39</td>\n",
       "      <td>451</td>\n",
       "      <td>경북</td>\n",
       "    </tr>\n",
       "    <tr>\n",
       "      <th>20</th>\n",
       "      <td></td>\n",
       "      <td>경남</td>\n",
       "      <td>6,473</td>\n",
       "      <td>6,485</td>\n",
       "      <td>6,502</td>\n",
       "      <td>6,610</td>\n",
       "      <td>6,599</td>\n",
       "      <td>6,610</td>\n",
       "      <td>6,615</td>\n",
       "      <td>6,613</td>\n",
       "      <td>...</td>\n",
       "      <td>7,683</td>\n",
       "      <td>7,717</td>\n",
       "      <td>7,715</td>\n",
       "      <td>7,723</td>\n",
       "      <td>7,665</td>\n",
       "      <td>7,947</td>\n",
       "      <td>282</td>\n",
       "      <td>615</td>\n",
       "      <td>1,179</td>\n",
       "      <td>경남</td>\n",
       "    </tr>\n",
       "    <tr>\n",
       "      <th>21</th>\n",
       "      <td></td>\n",
       "      <td>제주</td>\n",
       "      <td>7,674</td>\n",
       "      <td>7,900</td>\n",
       "      <td>7,900</td>\n",
       "      <td>7,900</td>\n",
       "      <td>7,900</td>\n",
       "      <td>7,900</td>\n",
       "      <td>7,914</td>\n",
       "      <td>7,914</td>\n",
       "      <td>...</td>\n",
       "      <td>7,285</td>\n",
       "      <td>7,285</td>\n",
       "      <td>7,343</td>\n",
       "      <td>7,343</td>\n",
       "      <td>7,343</td>\n",
       "      <td>7,379</td>\n",
       "      <td>36</td>\n",
       "      <td>-360</td>\n",
       "      <td>-453</td>\n",
       "      <td>제주</td>\n",
       "    </tr>\n",
       "    <tr>\n",
       "      <th>22</th>\n",
       "      <td></td>\n",
       "      <td></td>\n",
       "      <td>6,432</td>\n",
       "      <td>6,462</td>\n",
       "      <td>6,435</td>\n",
       "      <td>6,443</td>\n",
       "      <td>6,566</td>\n",
       "      <td>6,552</td>\n",
       "      <td>6,578</td>\n",
       "      <td>6,605</td>\n",
       "      <td>...</td>\n",
       "      <td>6,899</td>\n",
       "      <td>6,900</td>\n",
       "      <td>6,925</td>\n",
       "      <td>6,961</td>\n",
       "      <td>6,933</td>\n",
       "      <td>7,019</td>\n",
       "      <td>85</td>\n",
       "      <td>203</td>\n",
       "      <td>321</td>\n",
       "      <td></td>\n",
       "    </tr>\n",
       "  </tbody>\n",
       "</table>\n",
       "<p>21 rows × 28 columns</p>\n",
       "</div>"
      ],
      "text/plain": [
       "0      구분 시군구 2013년 12월 2014년 1월 2014년 2월 2014년 3월 2014년 4월 2014년 5월 2014년 6월  \\\n",
       "2      전국         8,059    8,130    8,195    8,204    8,289    8,358    8,344   \n",
       "3      서울        18,189   17,925   17,925   18,016   18,098   19,446   18,867   \n",
       "4   6대광역시  부산     8,111    8,111    9,078    8,965    9,402    9,501    9,453   \n",
       "5          대구     8,080    8,080    8,077    8,101    8,267    8,274    8,360   \n",
       "6          인천    10,204   10,204   10,408   10,408   10,000    9,844   10,058   \n",
       "7          광주     6,098    7,326    7,611    7,346    7,346    7,523    7,659   \n",
       "8          대전     8,321    8,321    8,321    8,341    8,341    8,341    8,333   \n",
       "9          울산     8,090    8,090    8,090    8,153    8,153    8,153    8,153   \n",
       "10                8,151    8,355    8,597    8,552    8,585    8,606    8,669   \n",
       "11     경기        10,855   10,855   10,791   10,784   10,876   10,646   10,266   \n",
       "12    수도권        13,083   12,995   13,041   13,069   12,991   13,312   13,064   \n",
       "13     세종         7,601    7,600    7,532    7,814    7,908    7,934    8,067   \n",
       "14     지방  강원     6,230    6,230    6,230    6,141    6,373    6,350    6,350   \n",
       "15         충북     6,589    6,589    6,611    6,625    6,678    6,598    6,587   \n",
       "16         충남     6,365    6,365    6,379    6,287    6,552    6,591    6,644   \n",
       "17         전북     6,282    6,281    5,946    5,966    6,277    6,306    6,351   \n",
       "18         전남     5,678    5,678    5,678    5,696    5,736    5,656    5,609   \n",
       "19         경북     6,168    6,168    6,234    6,317    6,412    6,409    6,554   \n",
       "20         경남     6,473    6,485    6,502    6,610    6,599    6,610    6,615   \n",
       "21         제주     7,674    7,900    7,900    7,900    7,900    7,900    7,914   \n",
       "22                6,432    6,462    6,435    6,443    6,566    6,552    6,578   \n",
       "\n",
       "0  2014년 7월  ... 2015년 4월 2015년 5월 2015년 6월 2015년 7월 2015년 8월 2015년 9월  \\\n",
       "2     8,333  ...    8,613    8,624    8,627    8,643    8,678    8,665   \n",
       "3    18,742  ...   18,842   18,367   18,374   18,152   18,443   17,969   \n",
       "4     9,457  ...    9,327    9,345    9,515    9,559    9,581    9,608   \n",
       "5     8,360  ...    8,446    8,568    8,542    8,542    8,795    8,863   \n",
       "6     9,974  ...    9,938   10,551   10,443   10,443   10,449   10,450   \n",
       "7     7,612  ...    7,914    7,877    7,881    8,089    8,231    8,083   \n",
       "8     8,333  ...    8,145    8,272    8,079    8,079    8,079    7,917   \n",
       "9     8,153  ...    9,380    9,192    9,190    9,190    9,215    9,215   \n",
       "10    8,648  ...    8,858    8,967    8,942    8,984    9,058    9,023   \n",
       "11   10,124  ...   10,684   10,685   10,573   10,518   10,573   10,341   \n",
       "12   12,947  ...   13,155   13,201   13,130   13,038   13,155   12,920   \n",
       "13    8,067  ...    8,546    8,546    8,671    8,669    8,695    8,715   \n",
       "14    6,268  ...    6,924    6,846    6,986    7,019    7,008    7,121   \n",
       "15    6,586  ...    6,790    6,805    6,682    6,601    6,603    6,606   \n",
       "16    6,805  ...    7,017    6,975    6,939    6,935    6,942    6,939   \n",
       "17    6,319  ...    6,551    6,556    6,601    6,750    6,580    6,885   \n",
       "18    5,780  ...    5,940    6,050    6,243    6,286    6,289    6,245   \n",
       "19    6,556  ...    7,006    6,966    6,887    7,035    7,037    7,029   \n",
       "20    6,613  ...    7,683    7,717    7,715    7,723    7,665    7,947   \n",
       "21    7,914  ...    7,285    7,285    7,343    7,343    7,343    7,379   \n",
       "22    6,605  ...    6,899    6,900    6,925    6,961    6,933    7,019   \n",
       "\n",
       "0  2015년 전월비 2015년 전년말비 2015년 전년동월비       지역  \n",
       "2       -13         82         207        전국  \n",
       "3      -474     -2,300      -1,434        서울  \n",
       "4         1        430         477   6대광역시부산  \n",
       "5        27        400         350        대구  \n",
       "6      -162       -150        -131        인천  \n",
       "7      -148        334         281        광주  \n",
       "8        68        610         414        대전  \n",
       "9         0        324         722        울산  \n",
       "10      -36        325         352            \n",
       "11     -232        -38        -160        경기  \n",
       "12     -235       -636        -373       수도권  \n",
       "13       20        155         434        세종  \n",
       "14      113        756         702      지방강원  \n",
       "15        3       -137          22        충북  \n",
       "16       -3        -50          57        충남  \n",
       "17      304        301         165        전북  \n",
       "18      -43        461         441        전남  \n",
       "19       -9         39         451        경북  \n",
       "20      282        615       1,179        경남  \n",
       "21       36       -360        -453        제주  \n",
       "22       85        203         321            \n",
       "\n",
       "[21 rows x 28 columns]"
      ]
     },
     "execution_count": 209,
     "metadata": {},
     "output_type": "execute_result"
    }
   ],
   "source": [
    "# pandas에서 보기 쉽게 컬럼을 변경해 줄 필요가 있다.\n",
    "df"
   ]
  },
  {
   "cell_type": "markdown",
   "metadata": {},
   "source": [
    "##### 데이터 프레임 모습을 보고 가장 먼저 해야할 것은?\n",
    "0,1번째 줄의 연과 월을 한줄로 합쳐주자\n",
    "그런 다음 이전의 데이터와 같이 맞춰줘야하니까 연과 월을 두개의 칼럼으로 다시 나눠줘야함"
   ]
  },
  {
   "cell_type": "code",
   "execution_count": 149,
   "metadata": {},
   "outputs": [],
   "source": [
    "year = df.iloc[0]\n",
    "month = df.iloc[1]\n",
    "#행과 열 추출할땐:loc(명을 기준으로),iloc(index 기준으로)"
   ]
  },
  {
   "cell_type": "code",
   "execution_count": 150,
   "metadata": {},
   "outputs": [
    {
     "data": {
      "text/plain": [
       "Unnamed: 0                구분\n",
       "Unnamed: 1               NaN\n",
       "Unnamed: 2             2013년\n",
       "Unnamed: 3             2014년\n",
       "Unnamed: 4               NaN\n",
       "Unnamed: 5               NaN\n",
       "Unnamed: 6               NaN\n",
       "Unnamed: 7               NaN\n",
       "Unnamed: 8               NaN\n",
       "Unnamed: 9               NaN\n",
       "Unnamed: 10              NaN\n",
       "Unnamed: 11              NaN\n",
       "Unnamed: 12              NaN\n",
       "Unnamed: 13              NaN\n",
       "Unnamed: 14              NaN\n",
       "Unnamed: 15            2015년\n",
       "Unnamed: 16              NaN\n",
       "Unnamed: 17              NaN\n",
       "Unnamed: 18              NaN\n",
       "Unnamed: 19              NaN\n",
       "Unnamed: 20              NaN\n",
       "Unnamed: 21              NaN\n",
       "Unnamed: 22              NaN\n",
       "Unnamed: 23              NaN\n",
       "Unnamed: 24              NaN\n",
       "Unnamed: 25              NaN\n",
       "Unnamed: 26    (단위: 천원/3.3㎡)\n",
       "Name: 0, dtype: object"
      ]
     },
     "execution_count": 150,
     "metadata": {},
     "output_type": "execute_result"
    }
   ],
   "source": [
    "# 우선 year을 보자-> 많이 나온 결측치들을 채워준다.\n",
    "year"
   ]
  },
  {
   "cell_type": "code",
   "execution_count": 151,
   "metadata": {},
   "outputs": [
    {
     "name": "stdout",
     "output_type": "stream",
     "text": [
      "Unnamed: 0              구분\n",
      "Unnamed: 1             시군구\n",
      "Unnamed: 2       2013년 12월\n",
      "Unnamed: 3        2014년 1월\n",
      "Unnamed: 4        2014년 2월\n",
      "Unnamed: 5        2014년 3월\n",
      "Unnamed: 6        2014년 4월\n",
      "Unnamed: 7        2014년 5월\n",
      "Unnamed: 8        2014년 6월\n",
      "Unnamed: 9        2014년 7월\n",
      "Unnamed: 10       2014년 8월\n",
      "Unnamed: 11       2014년 9월\n",
      "Unnamed: 12      2014년 10월\n",
      "Unnamed: 13      2014년 11월\n",
      "Unnamed: 14      2014년 12월\n",
      "Unnamed: 15       2015년 1월\n",
      "Unnamed: 16       2015년 2월\n",
      "Unnamed: 17       2015년 3월\n",
      "Unnamed: 18       2015년 4월\n",
      "Unnamed: 19       2015년 5월\n",
      "Unnamed: 20       2015년 6월\n",
      "Unnamed: 21       2015년 7월\n",
      "Unnamed: 22       2015년 8월\n",
      "Unnamed: 23       2015년 9월\n",
      "Unnamed: 24      2015년 전월비\n",
      "Unnamed: 25     2015년 전년말비\n",
      "Unnamed: 26    2015년 전년동월비\n",
      "Name: 0, dtype: object\n"
     ]
    }
   ],
   "source": [
    "# 컬럼을 새로 만들어 주기 위해 0번째와 1번째 행을 합쳐준다.\n",
    "for i, y in enumerate(year): \n",
    "    if i > 2 and i < 15:\n",
    "        year[i] = ' '.join(['2014년', month[i]])\n",
    "    elif i >= 15:\n",
    "        year[i] = ' '.join(['2015년', month[i]])\n",
    "    elif i == 2 :\n",
    "        year[i] = ' '.join([year[i], month[i]])\n",
    "    elif i == 1:\n",
    "        year[i] = '시군구'\n",
    "        \n",
    "#for문처럼 반복되는 구간에서 객체가 현재 어느 위치에 있는지 알려주는 \n",
    "#인덱스 값이 필요할때 enumerate 함수를 사용하면 매우 유용        \n",
    "print(year)"
   ]
  },
  {
   "cell_type": "code",
   "execution_count": 152,
   "metadata": {},
   "outputs": [],
   "source": [
    "df.columns = year\n",
    "#컬럼 지정 "
   ]
  },
  {
   "cell_type": "code",
   "execution_count": 153,
   "metadata": {},
   "outputs": [
    {
     "data": {
      "text/html": [
       "<div>\n",
       "<style scoped>\n",
       "    .dataframe tbody tr th:only-of-type {\n",
       "        vertical-align: middle;\n",
       "    }\n",
       "\n",
       "    .dataframe tbody tr th {\n",
       "        vertical-align: top;\n",
       "    }\n",
       "\n",
       "    .dataframe thead th {\n",
       "        text-align: right;\n",
       "    }\n",
       "</style>\n",
       "<table border=\"1\" class=\"dataframe\">\n",
       "  <thead>\n",
       "    <tr style=\"text-align: right;\">\n",
       "      <th></th>\n",
       "      <th>구분</th>\n",
       "      <th>시군구</th>\n",
       "      <th>2013년 12월</th>\n",
       "      <th>2014년 1월</th>\n",
       "      <th>2014년 2월</th>\n",
       "      <th>2014년 3월</th>\n",
       "      <th>2014년 4월</th>\n",
       "      <th>2014년 5월</th>\n",
       "      <th>2014년 6월</th>\n",
       "      <th>2014년 7월</th>\n",
       "      <th>...</th>\n",
       "      <th>2015년 3월</th>\n",
       "      <th>2015년 4월</th>\n",
       "      <th>2015년 5월</th>\n",
       "      <th>2015년 6월</th>\n",
       "      <th>2015년 7월</th>\n",
       "      <th>2015년 8월</th>\n",
       "      <th>2015년 9월</th>\n",
       "      <th>2015년 전월비</th>\n",
       "      <th>2015년 전년말비</th>\n",
       "      <th>2015년 전년동월비</th>\n",
       "    </tr>\n",
       "  </thead>\n",
       "  <tbody>\n",
       "    <tr>\n",
       "      <th>2</th>\n",
       "      <td>전국</td>\n",
       "      <td>NaN</td>\n",
       "      <td>8,059</td>\n",
       "      <td>8,130</td>\n",
       "      <td>8,195</td>\n",
       "      <td>8,204</td>\n",
       "      <td>8,289</td>\n",
       "      <td>8,358</td>\n",
       "      <td>8,344</td>\n",
       "      <td>8,333</td>\n",
       "      <td>...</td>\n",
       "      <td>8,563</td>\n",
       "      <td>8,613</td>\n",
       "      <td>8,624</td>\n",
       "      <td>8,627</td>\n",
       "      <td>8,643</td>\n",
       "      <td>8,678</td>\n",
       "      <td>8,665</td>\n",
       "      <td>-13</td>\n",
       "      <td>82</td>\n",
       "      <td>207</td>\n",
       "    </tr>\n",
       "    <tr>\n",
       "      <th>3</th>\n",
       "      <td>서울</td>\n",
       "      <td>NaN</td>\n",
       "      <td>18,189</td>\n",
       "      <td>17,925</td>\n",
       "      <td>17,925</td>\n",
       "      <td>18,016</td>\n",
       "      <td>18,098</td>\n",
       "      <td>19,446</td>\n",
       "      <td>18,867</td>\n",
       "      <td>18,742</td>\n",
       "      <td>...</td>\n",
       "      <td>19,415</td>\n",
       "      <td>18,842</td>\n",
       "      <td>18,367</td>\n",
       "      <td>18,374</td>\n",
       "      <td>18,152</td>\n",
       "      <td>18,443</td>\n",
       "      <td>17,969</td>\n",
       "      <td>-474</td>\n",
       "      <td>-2,300</td>\n",
       "      <td>-1,434</td>\n",
       "    </tr>\n",
       "    <tr>\n",
       "      <th>4</th>\n",
       "      <td>6대광역시</td>\n",
       "      <td>부산</td>\n",
       "      <td>8,111</td>\n",
       "      <td>8,111</td>\n",
       "      <td>9,078</td>\n",
       "      <td>8,965</td>\n",
       "      <td>9,402</td>\n",
       "      <td>9,501</td>\n",
       "      <td>9,453</td>\n",
       "      <td>9,457</td>\n",
       "      <td>...</td>\n",
       "      <td>9,279</td>\n",
       "      <td>9,327</td>\n",
       "      <td>9,345</td>\n",
       "      <td>9,515</td>\n",
       "      <td>9,559</td>\n",
       "      <td>9,581</td>\n",
       "      <td>9,608</td>\n",
       "      <td>1</td>\n",
       "      <td>430</td>\n",
       "      <td>477</td>\n",
       "    </tr>\n",
       "    <tr>\n",
       "      <th>5</th>\n",
       "      <td>NaN</td>\n",
       "      <td>대구</td>\n",
       "      <td>8,080</td>\n",
       "      <td>8,080</td>\n",
       "      <td>8,077</td>\n",
       "      <td>8,101</td>\n",
       "      <td>8,267</td>\n",
       "      <td>8,274</td>\n",
       "      <td>8,360</td>\n",
       "      <td>8,360</td>\n",
       "      <td>...</td>\n",
       "      <td>8,441</td>\n",
       "      <td>8,446</td>\n",
       "      <td>8,568</td>\n",
       "      <td>8,542</td>\n",
       "      <td>8,542</td>\n",
       "      <td>8,795</td>\n",
       "      <td>8,863</td>\n",
       "      <td>27</td>\n",
       "      <td>400</td>\n",
       "      <td>350</td>\n",
       "    </tr>\n",
       "    <tr>\n",
       "      <th>6</th>\n",
       "      <td>NaN</td>\n",
       "      <td>인천</td>\n",
       "      <td>10,204</td>\n",
       "      <td>10,204</td>\n",
       "      <td>10,408</td>\n",
       "      <td>10,408</td>\n",
       "      <td>10,000</td>\n",
       "      <td>9,844</td>\n",
       "      <td>10,058</td>\n",
       "      <td>9,974</td>\n",
       "      <td>...</td>\n",
       "      <td>9,876</td>\n",
       "      <td>9,938</td>\n",
       "      <td>10,551</td>\n",
       "      <td>10,443</td>\n",
       "      <td>10,443</td>\n",
       "      <td>10,449</td>\n",
       "      <td>10,450</td>\n",
       "      <td>-162</td>\n",
       "      <td>-150</td>\n",
       "      <td>-131</td>\n",
       "    </tr>\n",
       "    <tr>\n",
       "      <th>7</th>\n",
       "      <td>NaN</td>\n",
       "      <td>광주</td>\n",
       "      <td>6,098</td>\n",
       "      <td>7,326</td>\n",
       "      <td>7,611</td>\n",
       "      <td>7,346</td>\n",
       "      <td>7,346</td>\n",
       "      <td>7,523</td>\n",
       "      <td>7,659</td>\n",
       "      <td>7,612</td>\n",
       "      <td>...</td>\n",
       "      <td>7,861</td>\n",
       "      <td>7,914</td>\n",
       "      <td>7,877</td>\n",
       "      <td>7,881</td>\n",
       "      <td>8,089</td>\n",
       "      <td>8,231</td>\n",
       "      <td>8,083</td>\n",
       "      <td>-148</td>\n",
       "      <td>334</td>\n",
       "      <td>281</td>\n",
       "    </tr>\n",
       "    <tr>\n",
       "      <th>8</th>\n",
       "      <td>NaN</td>\n",
       "      <td>대전</td>\n",
       "      <td>8,321</td>\n",
       "      <td>8,321</td>\n",
       "      <td>8,321</td>\n",
       "      <td>8,341</td>\n",
       "      <td>8,341</td>\n",
       "      <td>8,341</td>\n",
       "      <td>8,333</td>\n",
       "      <td>8,333</td>\n",
       "      <td>...</td>\n",
       "      <td>8,067</td>\n",
       "      <td>8,145</td>\n",
       "      <td>8,272</td>\n",
       "      <td>8,079</td>\n",
       "      <td>8,079</td>\n",
       "      <td>8,079</td>\n",
       "      <td>7,917</td>\n",
       "      <td>68</td>\n",
       "      <td>610</td>\n",
       "      <td>414</td>\n",
       "    </tr>\n",
       "    <tr>\n",
       "      <th>9</th>\n",
       "      <td>NaN</td>\n",
       "      <td>울산</td>\n",
       "      <td>8,090</td>\n",
       "      <td>8,090</td>\n",
       "      <td>8,090</td>\n",
       "      <td>8,153</td>\n",
       "      <td>8,153</td>\n",
       "      <td>8,153</td>\n",
       "      <td>8,153</td>\n",
       "      <td>8,153</td>\n",
       "      <td>...</td>\n",
       "      <td>8,629</td>\n",
       "      <td>9,380</td>\n",
       "      <td>9,192</td>\n",
       "      <td>9,190</td>\n",
       "      <td>9,190</td>\n",
       "      <td>9,215</td>\n",
       "      <td>9,215</td>\n",
       "      <td>0</td>\n",
       "      <td>324</td>\n",
       "      <td>722</td>\n",
       "    </tr>\n",
       "    <tr>\n",
       "      <th>10</th>\n",
       "      <td>NaN</td>\n",
       "      <td>NaN</td>\n",
       "      <td>8,151</td>\n",
       "      <td>8,355</td>\n",
       "      <td>8,597</td>\n",
       "      <td>8,552</td>\n",
       "      <td>8,585</td>\n",
       "      <td>8,606</td>\n",
       "      <td>8,669</td>\n",
       "      <td>8,648</td>\n",
       "      <td>...</td>\n",
       "      <td>8,692</td>\n",
       "      <td>8,858</td>\n",
       "      <td>8,967</td>\n",
       "      <td>8,942</td>\n",
       "      <td>8,984</td>\n",
       "      <td>9,058</td>\n",
       "      <td>9,023</td>\n",
       "      <td>-36</td>\n",
       "      <td>325</td>\n",
       "      <td>352</td>\n",
       "    </tr>\n",
       "    <tr>\n",
       "      <th>11</th>\n",
       "      <td>경기</td>\n",
       "      <td>NaN</td>\n",
       "      <td>10,855</td>\n",
       "      <td>10,855</td>\n",
       "      <td>10,791</td>\n",
       "      <td>10,784</td>\n",
       "      <td>10,876</td>\n",
       "      <td>10,646</td>\n",
       "      <td>10,266</td>\n",
       "      <td>10,124</td>\n",
       "      <td>...</td>\n",
       "      <td>10,469</td>\n",
       "      <td>10,684</td>\n",
       "      <td>10,685</td>\n",
       "      <td>10,573</td>\n",
       "      <td>10,518</td>\n",
       "      <td>10,573</td>\n",
       "      <td>10,341</td>\n",
       "      <td>-232</td>\n",
       "      <td>-38</td>\n",
       "      <td>-160</td>\n",
       "    </tr>\n",
       "    <tr>\n",
       "      <th>12</th>\n",
       "      <td>수도권</td>\n",
       "      <td>NaN</td>\n",
       "      <td>13,083</td>\n",
       "      <td>12,995</td>\n",
       "      <td>13,041</td>\n",
       "      <td>13,069</td>\n",
       "      <td>12,991</td>\n",
       "      <td>13,312</td>\n",
       "      <td>13,064</td>\n",
       "      <td>12,947</td>\n",
       "      <td>...</td>\n",
       "      <td>13,253</td>\n",
       "      <td>13,155</td>\n",
       "      <td>13,201</td>\n",
       "      <td>13,130</td>\n",
       "      <td>13,038</td>\n",
       "      <td>13,155</td>\n",
       "      <td>12,920</td>\n",
       "      <td>-235</td>\n",
       "      <td>-636</td>\n",
       "      <td>-373</td>\n",
       "    </tr>\n",
       "    <tr>\n",
       "      <th>13</th>\n",
       "      <td>세종</td>\n",
       "      <td>NaN</td>\n",
       "      <td>7,601</td>\n",
       "      <td>7,600</td>\n",
       "      <td>7,532</td>\n",
       "      <td>7,814</td>\n",
       "      <td>7,908</td>\n",
       "      <td>7,934</td>\n",
       "      <td>8,067</td>\n",
       "      <td>8,067</td>\n",
       "      <td>...</td>\n",
       "      <td>8,555</td>\n",
       "      <td>8,546</td>\n",
       "      <td>8,546</td>\n",
       "      <td>8,671</td>\n",
       "      <td>8,669</td>\n",
       "      <td>8,695</td>\n",
       "      <td>8,715</td>\n",
       "      <td>20</td>\n",
       "      <td>155</td>\n",
       "      <td>434</td>\n",
       "    </tr>\n",
       "    <tr>\n",
       "      <th>14</th>\n",
       "      <td>지방</td>\n",
       "      <td>강원</td>\n",
       "      <td>6,230</td>\n",
       "      <td>6,230</td>\n",
       "      <td>6,230</td>\n",
       "      <td>6,141</td>\n",
       "      <td>6,373</td>\n",
       "      <td>6,350</td>\n",
       "      <td>6,350</td>\n",
       "      <td>6,268</td>\n",
       "      <td>...</td>\n",
       "      <td>6,182</td>\n",
       "      <td>6,924</td>\n",
       "      <td>6,846</td>\n",
       "      <td>6,986</td>\n",
       "      <td>7,019</td>\n",
       "      <td>7,008</td>\n",
       "      <td>7,121</td>\n",
       "      <td>113</td>\n",
       "      <td>756</td>\n",
       "      <td>702</td>\n",
       "    </tr>\n",
       "    <tr>\n",
       "      <th>15</th>\n",
       "      <td>NaN</td>\n",
       "      <td>충북</td>\n",
       "      <td>6,589</td>\n",
       "      <td>6,589</td>\n",
       "      <td>6,611</td>\n",
       "      <td>6,625</td>\n",
       "      <td>6,678</td>\n",
       "      <td>6,598</td>\n",
       "      <td>6,587</td>\n",
       "      <td>6,586</td>\n",
       "      <td>...</td>\n",
       "      <td>6,783</td>\n",
       "      <td>6,790</td>\n",
       "      <td>6,805</td>\n",
       "      <td>6,682</td>\n",
       "      <td>6,601</td>\n",
       "      <td>6,603</td>\n",
       "      <td>6,606</td>\n",
       "      <td>3</td>\n",
       "      <td>-137</td>\n",
       "      <td>22</td>\n",
       "    </tr>\n",
       "    <tr>\n",
       "      <th>16</th>\n",
       "      <td>NaN</td>\n",
       "      <td>충남</td>\n",
       "      <td>6,365</td>\n",
       "      <td>6,365</td>\n",
       "      <td>6,379</td>\n",
       "      <td>6,287</td>\n",
       "      <td>6,552</td>\n",
       "      <td>6,591</td>\n",
       "      <td>6,644</td>\n",
       "      <td>6,805</td>\n",
       "      <td>...</td>\n",
       "      <td>7,161</td>\n",
       "      <td>7,017</td>\n",
       "      <td>6,975</td>\n",
       "      <td>6,939</td>\n",
       "      <td>6,935</td>\n",
       "      <td>6,942</td>\n",
       "      <td>6,939</td>\n",
       "      <td>-3</td>\n",
       "      <td>-50</td>\n",
       "      <td>57</td>\n",
       "    </tr>\n",
       "    <tr>\n",
       "      <th>17</th>\n",
       "      <td>NaN</td>\n",
       "      <td>전북</td>\n",
       "      <td>6,282</td>\n",
       "      <td>6,281</td>\n",
       "      <td>5,946</td>\n",
       "      <td>5,966</td>\n",
       "      <td>6,277</td>\n",
       "      <td>6,306</td>\n",
       "      <td>6,351</td>\n",
       "      <td>6,319</td>\n",
       "      <td>...</td>\n",
       "      <td>6,542</td>\n",
       "      <td>6,551</td>\n",
       "      <td>6,556</td>\n",
       "      <td>6,601</td>\n",
       "      <td>6,750</td>\n",
       "      <td>6,580</td>\n",
       "      <td>6,885</td>\n",
       "      <td>304</td>\n",
       "      <td>301</td>\n",
       "      <td>165</td>\n",
       "    </tr>\n",
       "    <tr>\n",
       "      <th>18</th>\n",
       "      <td>NaN</td>\n",
       "      <td>전남</td>\n",
       "      <td>5,678</td>\n",
       "      <td>5,678</td>\n",
       "      <td>5,678</td>\n",
       "      <td>5,696</td>\n",
       "      <td>5,736</td>\n",
       "      <td>5,656</td>\n",
       "      <td>5,609</td>\n",
       "      <td>5,780</td>\n",
       "      <td>...</td>\n",
       "      <td>5,825</td>\n",
       "      <td>5,940</td>\n",
       "      <td>6,050</td>\n",
       "      <td>6,243</td>\n",
       "      <td>6,286</td>\n",
       "      <td>6,289</td>\n",
       "      <td>6,245</td>\n",
       "      <td>-43</td>\n",
       "      <td>461</td>\n",
       "      <td>441</td>\n",
       "    </tr>\n",
       "    <tr>\n",
       "      <th>19</th>\n",
       "      <td>NaN</td>\n",
       "      <td>경북</td>\n",
       "      <td>6,168</td>\n",
       "      <td>6,168</td>\n",
       "      <td>6,234</td>\n",
       "      <td>6,317</td>\n",
       "      <td>6,412</td>\n",
       "      <td>6,409</td>\n",
       "      <td>6,554</td>\n",
       "      <td>6,556</td>\n",
       "      <td>...</td>\n",
       "      <td>6,997</td>\n",
       "      <td>7,006</td>\n",
       "      <td>6,966</td>\n",
       "      <td>6,887</td>\n",
       "      <td>7,035</td>\n",
       "      <td>7,037</td>\n",
       "      <td>7,029</td>\n",
       "      <td>-9</td>\n",
       "      <td>39</td>\n",
       "      <td>451</td>\n",
       "    </tr>\n",
       "    <tr>\n",
       "      <th>20</th>\n",
       "      <td>NaN</td>\n",
       "      <td>경남</td>\n",
       "      <td>6,473</td>\n",
       "      <td>6,485</td>\n",
       "      <td>6,502</td>\n",
       "      <td>6,610</td>\n",
       "      <td>6,599</td>\n",
       "      <td>6,610</td>\n",
       "      <td>6,615</td>\n",
       "      <td>6,613</td>\n",
       "      <td>...</td>\n",
       "      <td>7,668</td>\n",
       "      <td>7,683</td>\n",
       "      <td>7,717</td>\n",
       "      <td>7,715</td>\n",
       "      <td>7,723</td>\n",
       "      <td>7,665</td>\n",
       "      <td>7,947</td>\n",
       "      <td>282</td>\n",
       "      <td>615</td>\n",
       "      <td>1,179</td>\n",
       "    </tr>\n",
       "    <tr>\n",
       "      <th>21</th>\n",
       "      <td>NaN</td>\n",
       "      <td>제주</td>\n",
       "      <td>7,674</td>\n",
       "      <td>7,900</td>\n",
       "      <td>7,900</td>\n",
       "      <td>7,900</td>\n",
       "      <td>7,900</td>\n",
       "      <td>7,900</td>\n",
       "      <td>7,914</td>\n",
       "      <td>7,914</td>\n",
       "      <td>...</td>\n",
       "      <td>7,826</td>\n",
       "      <td>7,285</td>\n",
       "      <td>7,285</td>\n",
       "      <td>7,343</td>\n",
       "      <td>7,343</td>\n",
       "      <td>7,343</td>\n",
       "      <td>7,379</td>\n",
       "      <td>36</td>\n",
       "      <td>-360</td>\n",
       "      <td>-453</td>\n",
       "    </tr>\n",
       "    <tr>\n",
       "      <th>22</th>\n",
       "      <td>NaN</td>\n",
       "      <td>NaN</td>\n",
       "      <td>6,432</td>\n",
       "      <td>6,462</td>\n",
       "      <td>6,435</td>\n",
       "      <td>6,443</td>\n",
       "      <td>6,566</td>\n",
       "      <td>6,552</td>\n",
       "      <td>6,578</td>\n",
       "      <td>6,605</td>\n",
       "      <td>...</td>\n",
       "      <td>6,873</td>\n",
       "      <td>6,899</td>\n",
       "      <td>6,900</td>\n",
       "      <td>6,925</td>\n",
       "      <td>6,961</td>\n",
       "      <td>6,933</td>\n",
       "      <td>7,019</td>\n",
       "      <td>85</td>\n",
       "      <td>203</td>\n",
       "      <td>321</td>\n",
       "    </tr>\n",
       "  </tbody>\n",
       "</table>\n",
       "<p>21 rows × 27 columns</p>\n",
       "</div>"
      ],
      "text/plain": [
       "0      구분  시군구 2013년 12월 2014년 1월 2014년 2월 2014년 3월 2014년 4월 2014년 5월  \\\n",
       "2      전국  NaN     8,059    8,130    8,195    8,204    8,289    8,358   \n",
       "3      서울  NaN    18,189   17,925   17,925   18,016   18,098   19,446   \n",
       "4   6대광역시   부산     8,111    8,111    9,078    8,965    9,402    9,501   \n",
       "5     NaN   대구     8,080    8,080    8,077    8,101    8,267    8,274   \n",
       "6     NaN   인천    10,204   10,204   10,408   10,408   10,000    9,844   \n",
       "7     NaN   광주     6,098    7,326    7,611    7,346    7,346    7,523   \n",
       "8     NaN   대전     8,321    8,321    8,321    8,341    8,341    8,341   \n",
       "9     NaN   울산     8,090    8,090    8,090    8,153    8,153    8,153   \n",
       "10    NaN  NaN     8,151    8,355    8,597    8,552    8,585    8,606   \n",
       "11     경기  NaN    10,855   10,855   10,791   10,784   10,876   10,646   \n",
       "12    수도권  NaN    13,083   12,995   13,041   13,069   12,991   13,312   \n",
       "13     세종  NaN     7,601    7,600    7,532    7,814    7,908    7,934   \n",
       "14     지방   강원     6,230    6,230    6,230    6,141    6,373    6,350   \n",
       "15    NaN   충북     6,589    6,589    6,611    6,625    6,678    6,598   \n",
       "16    NaN   충남     6,365    6,365    6,379    6,287    6,552    6,591   \n",
       "17    NaN   전북     6,282    6,281    5,946    5,966    6,277    6,306   \n",
       "18    NaN   전남     5,678    5,678    5,678    5,696    5,736    5,656   \n",
       "19    NaN   경북     6,168    6,168    6,234    6,317    6,412    6,409   \n",
       "20    NaN   경남     6,473    6,485    6,502    6,610    6,599    6,610   \n",
       "21    NaN   제주     7,674    7,900    7,900    7,900    7,900    7,900   \n",
       "22    NaN  NaN     6,432    6,462    6,435    6,443    6,566    6,552   \n",
       "\n",
       "0  2014년 6월 2014년 7월  ... 2015년 3월 2015년 4월 2015년 5월 2015년 6월 2015년 7월  \\\n",
       "2     8,344    8,333  ...    8,563    8,613    8,624    8,627    8,643   \n",
       "3    18,867   18,742  ...   19,415   18,842   18,367   18,374   18,152   \n",
       "4     9,453    9,457  ...    9,279    9,327    9,345    9,515    9,559   \n",
       "5     8,360    8,360  ...    8,441    8,446    8,568    8,542    8,542   \n",
       "6    10,058    9,974  ...    9,876    9,938   10,551   10,443   10,443   \n",
       "7     7,659    7,612  ...    7,861    7,914    7,877    7,881    8,089   \n",
       "8     8,333    8,333  ...    8,067    8,145    8,272    8,079    8,079   \n",
       "9     8,153    8,153  ...    8,629    9,380    9,192    9,190    9,190   \n",
       "10    8,669    8,648  ...    8,692    8,858    8,967    8,942    8,984   \n",
       "11   10,266   10,124  ...   10,469   10,684   10,685   10,573   10,518   \n",
       "12   13,064   12,947  ...   13,253   13,155   13,201   13,130   13,038   \n",
       "13    8,067    8,067  ...    8,555    8,546    8,546    8,671    8,669   \n",
       "14    6,350    6,268  ...    6,182    6,924    6,846    6,986    7,019   \n",
       "15    6,587    6,586  ...    6,783    6,790    6,805    6,682    6,601   \n",
       "16    6,644    6,805  ...    7,161    7,017    6,975    6,939    6,935   \n",
       "17    6,351    6,319  ...    6,542    6,551    6,556    6,601    6,750   \n",
       "18    5,609    5,780  ...    5,825    5,940    6,050    6,243    6,286   \n",
       "19    6,554    6,556  ...    6,997    7,006    6,966    6,887    7,035   \n",
       "20    6,615    6,613  ...    7,668    7,683    7,717    7,715    7,723   \n",
       "21    7,914    7,914  ...    7,826    7,285    7,285    7,343    7,343   \n",
       "22    6,578    6,605  ...    6,873    6,899    6,900    6,925    6,961   \n",
       "\n",
       "0  2015년 8월 2015년 9월 2015년 전월비 2015년 전년말비 2015년 전년동월비  \n",
       "2     8,678    8,665      -13         82         207   \n",
       "3    18,443   17,969     -474     -2,300      -1,434   \n",
       "4     9,581    9,608        1        430         477   \n",
       "5     8,795    8,863       27        400         350   \n",
       "6    10,449   10,450     -162       -150        -131   \n",
       "7     8,231    8,083     -148        334         281   \n",
       "8     8,079    7,917       68        610         414   \n",
       "9     9,215    9,215        0        324         722   \n",
       "10    9,058    9,023      -36        325         352   \n",
       "11   10,573   10,341     -232        -38        -160   \n",
       "12   13,155   12,920     -235       -636        -373   \n",
       "13    8,695    8,715       20        155         434   \n",
       "14    7,008    7,121      113        756         702   \n",
       "15    6,603    6,606        3       -137          22   \n",
       "16    6,942    6,939       -3        -50          57   \n",
       "17    6,580    6,885      304        301         165   \n",
       "18    6,289    6,245      -43        461         441   \n",
       "19    7,037    7,029       -9         39         451   \n",
       "20    7,665    7,947      282        615       1,179   \n",
       "21    7,343    7,379       36       -360        -453   \n",
       "22    6,933    7,019       85        203         321   \n",
       "\n",
       "[21 rows x 27 columns]"
      ]
     },
     "execution_count": 153,
     "metadata": {},
     "output_type": "execute_result"
    }
   ],
   "source": [
    "df = df.drop(df.index[[0,1]])\n",
    "df"
   ]
  },
  {
   "cell_type": "code",
   "execution_count": 154,
   "metadata": {},
   "outputs": [],
   "source": [
    "# 지역 컬럼을 새로 만들어 시도와 시군구를 합쳐준다.\n",
    "df['구분'] = df['구분'].fillna('')\n",
    "df['시군구'] = df['시군구'].fillna('')"
   ]
  },
  {
   "cell_type": "code",
   "execution_count": 155,
   "metadata": {},
   "outputs": [],
   "source": [
    "df['지역'] = df['구분'] + df['시군구']"
   ]
  },
  {
   "cell_type": "code",
   "execution_count": 156,
   "metadata": {},
   "outputs": [
    {
     "data": {
      "text/plain": [
       "2          전국\n",
       "3          서울\n",
       "4     6대광역시부산\n",
       "5          대구\n",
       "6          인천\n",
       "7          광주\n",
       "8          대전\n",
       "9          울산\n",
       "10           \n",
       "11         경기\n",
       "12        수도권\n",
       "13         세종\n",
       "14       지방강원\n",
       "15         충북\n",
       "16         충남\n",
       "17         전북\n",
       "18         전남\n",
       "19         경북\n",
       "20         경남\n",
       "21         제주\n",
       "22           \n",
       "Name: 지역, dtype: object"
      ]
     },
     "execution_count": 156,
     "metadata": {},
     "output_type": "execute_result"
    }
   ],
   "source": [
    "df['지역']"
   ]
  },
  {
   "cell_type": "code",
   "execution_count": 157,
   "metadata": {},
   "outputs": [
    {
     "data": {
      "text/plain": [
       "Index(['구분', '시군구', '2013년 12월', '2014년 1월', '2014년 2월', '2014년 3월',\n",
       "       '2014년 4월', '2014년 5월', '2014년 6월', '2014년 7월', '2014년 8월', '2014년 9월',\n",
       "       '2014년 10월', '2014년 11월', '2014년 12월', '2015년 1월', '2015년 2월',\n",
       "       '2015년 3월', '2015년 4월', '2015년 5월', '2015년 6월', '2015년 7월', '2015년 8월',\n",
       "       '2015년 9월', '2015년 전월비', '2015년 전년말비', '2015년 전년동월비', '지역'],\n",
       "      dtype='object', name=0)"
      ]
     },
     "execution_count": 157,
     "metadata": {},
     "output_type": "execute_result"
    }
   ],
   "source": [
    "melt_columns = df.columns.copy()\n",
    "melt_columns"
   ]
  },
  {
   "cell_type": "code",
   "execution_count": 158,
   "metadata": {},
   "outputs": [
    {
     "data": {
      "text/html": [
       "<div>\n",
       "<style scoped>\n",
       "    .dataframe tbody tr th:only-of-type {\n",
       "        vertical-align: middle;\n",
       "    }\n",
       "\n",
       "    .dataframe tbody tr th {\n",
       "        vertical-align: top;\n",
       "    }\n",
       "\n",
       "    .dataframe thead th {\n",
       "        text-align: right;\n",
       "    }\n",
       "</style>\n",
       "<table border=\"1\" class=\"dataframe\">\n",
       "  <thead>\n",
       "    <tr style=\"text-align: right;\">\n",
       "      <th></th>\n",
       "      <th>지역</th>\n",
       "      <th>0</th>\n",
       "      <th>value</th>\n",
       "    </tr>\n",
       "  </thead>\n",
       "  <tbody>\n",
       "    <tr>\n",
       "      <th>0</th>\n",
       "      <td>전국</td>\n",
       "      <td>2013년 12월</td>\n",
       "      <td>8,059</td>\n",
       "    </tr>\n",
       "    <tr>\n",
       "      <th>1</th>\n",
       "      <td>서울</td>\n",
       "      <td>2013년 12월</td>\n",
       "      <td>18,189</td>\n",
       "    </tr>\n",
       "    <tr>\n",
       "      <th>2</th>\n",
       "      <td>6대광역시부산</td>\n",
       "      <td>2013년 12월</td>\n",
       "      <td>8,111</td>\n",
       "    </tr>\n",
       "    <tr>\n",
       "      <th>3</th>\n",
       "      <td>대구</td>\n",
       "      <td>2013년 12월</td>\n",
       "      <td>8,080</td>\n",
       "    </tr>\n",
       "    <tr>\n",
       "      <th>4</th>\n",
       "      <td>인천</td>\n",
       "      <td>2013년 12월</td>\n",
       "      <td>10,204</td>\n",
       "    </tr>\n",
       "  </tbody>\n",
       "</table>\n",
       "</div>"
      ],
      "text/plain": [
       "        지역          0   value\n",
       "0       전국  2013년 12월   8,059\n",
       "1       서울  2013년 12월  18,189\n",
       "2  6대광역시부산  2013년 12월   8,111\n",
       "3       대구  2013년 12월   8,080\n",
       "4       인천  2013년 12월  10,204"
      ]
     },
     "execution_count": 158,
     "metadata": {},
     "output_type": "execute_result"
    }
   ],
   "source": [
    "df_2013_2015 = pd.melt(df, id_vars=['지역'], value_vars=['2013년 12월', '2014년 1월', '2014년 2월', '2014년 3월',\n",
    "       '2014년 4월', '2014년 5월', '2014년 6월', '2014년 7월', '2014년 8월',\n",
    "       '2014년 9월', '2014년 10월', '2014년 11월', '2014년 12월', '2015년 1월',\n",
    "       '2015년 2월', '2015년 3월', '2015년 4월', '2015년 5월', '2015년 6월',\n",
    "       '2015년 7월', '2015년 8월', '2015년 9월'])\n",
    "df_2013_2015.head()\n",
    "\n",
    "#melt 사용법\n",
    "#import pandas as pd\n",
    "#df_b = pd.melt(df, id_vars=['A'], value_vars=['B', 'C'])\n",
    "#df_a의 'A' 컬럼을 기준으로 두고 'B', 'C'는 variable 컬럼에 구분자로 넣고 \n",
    "#'B', 'C' 컬럼의 값은 value 컬럼에 값으로 넣어 df_b 만들기"
   ]
  },
  {
   "cell_type": "code",
   "execution_count": 159,
   "metadata": {},
   "outputs": [
    {
     "data": {
      "text/html": [
       "<div>\n",
       "<style scoped>\n",
       "    .dataframe tbody tr th:only-of-type {\n",
       "        vertical-align: middle;\n",
       "    }\n",
       "\n",
       "    .dataframe tbody tr th {\n",
       "        vertical-align: top;\n",
       "    }\n",
       "\n",
       "    .dataframe thead th {\n",
       "        text-align: right;\n",
       "    }\n",
       "</style>\n",
       "<table border=\"1\" class=\"dataframe\">\n",
       "  <thead>\n",
       "    <tr style=\"text-align: right;\">\n",
       "      <th></th>\n",
       "      <th>지역</th>\n",
       "      <th>기간</th>\n",
       "      <th>분양가</th>\n",
       "    </tr>\n",
       "  </thead>\n",
       "  <tbody>\n",
       "    <tr>\n",
       "      <th>0</th>\n",
       "      <td>전국</td>\n",
       "      <td>2013년 12월</td>\n",
       "      <td>8,059</td>\n",
       "    </tr>\n",
       "    <tr>\n",
       "      <th>1</th>\n",
       "      <td>서울</td>\n",
       "      <td>2013년 12월</td>\n",
       "      <td>18,189</td>\n",
       "    </tr>\n",
       "    <tr>\n",
       "      <th>2</th>\n",
       "      <td>6대광역시부산</td>\n",
       "      <td>2013년 12월</td>\n",
       "      <td>8,111</td>\n",
       "    </tr>\n",
       "    <tr>\n",
       "      <th>3</th>\n",
       "      <td>대구</td>\n",
       "      <td>2013년 12월</td>\n",
       "      <td>8,080</td>\n",
       "    </tr>\n",
       "    <tr>\n",
       "      <th>4</th>\n",
       "      <td>인천</td>\n",
       "      <td>2013년 12월</td>\n",
       "      <td>10,204</td>\n",
       "    </tr>\n",
       "  </tbody>\n",
       "</table>\n",
       "</div>"
      ],
      "text/plain": [
       "        지역         기간     분양가\n",
       "0       전국  2013년 12월   8,059\n",
       "1       서울  2013년 12월  18,189\n",
       "2  6대광역시부산  2013년 12월   8,111\n",
       "3       대구  2013년 12월   8,080\n",
       "4       인천  2013년 12월  10,204"
      ]
     },
     "execution_count": 159,
     "metadata": {},
     "output_type": "execute_result"
    }
   ],
   "source": [
    "df_2013_2015.columns = ['지역', '기간', '분양가']\n",
    "\n",
    "df_2013_2015.head()"
   ]
  },
  {
   "cell_type": "code",
   "execution_count": 160,
   "metadata": {},
   "outputs": [],
   "source": [
    "df_2013_2015['연도'] = df_2013_2015['기간'].apply(lambda year_month : year_month.split('년')[0]) #기간에서 '년'이라는 단어로 split을 해서 0번째 값(ex) '2013')을 기간의 연도에 넣어줌 \n",
    "df_2013_2015['월'] = df_2013_2015['기간'].apply(lambda year_month : re.sub('월', '', year_month.split('년')[1]).strip()) #년이랑 단어로 split해서 1번째 값( ex) ' 12월)을 공백이 있으니까 strip을 해서(ex) '12월') 월로 나눠서(ex) '12') 월에다가 넣어줌  \n",
    "\n",
    "#ex)\n",
    "#print(re.sub('\\d{4}', 'XXXX', '010-1234-5678'))\n",
    "#결과 010-XXXX-XXXX\n",
    "#re.sub(정규표현식)은 패턴에 일치되는 문자열은 다른 문자열로 바꿔주는 것 (\\d{4}'->'XXXX)"
   ]
  },
  {
   "cell_type": "code",
   "execution_count": 161,
   "metadata": {},
   "outputs": [
    {
     "data": {
      "text/html": [
       "<div>\n",
       "<style scoped>\n",
       "    .dataframe tbody tr th:only-of-type {\n",
       "        vertical-align: middle;\n",
       "    }\n",
       "\n",
       "    .dataframe tbody tr th {\n",
       "        vertical-align: top;\n",
       "    }\n",
       "\n",
       "    .dataframe thead th {\n",
       "        text-align: right;\n",
       "    }\n",
       "</style>\n",
       "<table border=\"1\" class=\"dataframe\">\n",
       "  <thead>\n",
       "    <tr style=\"text-align: right;\">\n",
       "      <th></th>\n",
       "      <th>지역</th>\n",
       "      <th>기간</th>\n",
       "      <th>분양가</th>\n",
       "      <th>연도</th>\n",
       "      <th>월</th>\n",
       "    </tr>\n",
       "  </thead>\n",
       "  <tbody>\n",
       "    <tr>\n",
       "      <th>0</th>\n",
       "      <td>전국</td>\n",
       "      <td>2013년 12월</td>\n",
       "      <td>8,059</td>\n",
       "      <td>2013</td>\n",
       "      <td>12</td>\n",
       "    </tr>\n",
       "    <tr>\n",
       "      <th>1</th>\n",
       "      <td>서울</td>\n",
       "      <td>2013년 12월</td>\n",
       "      <td>18,189</td>\n",
       "      <td>2013</td>\n",
       "      <td>12</td>\n",
       "    </tr>\n",
       "    <tr>\n",
       "      <th>2</th>\n",
       "      <td>6대광역시부산</td>\n",
       "      <td>2013년 12월</td>\n",
       "      <td>8,111</td>\n",
       "      <td>2013</td>\n",
       "      <td>12</td>\n",
       "    </tr>\n",
       "    <tr>\n",
       "      <th>3</th>\n",
       "      <td>대구</td>\n",
       "      <td>2013년 12월</td>\n",
       "      <td>8,080</td>\n",
       "      <td>2013</td>\n",
       "      <td>12</td>\n",
       "    </tr>\n",
       "    <tr>\n",
       "      <th>4</th>\n",
       "      <td>인천</td>\n",
       "      <td>2013년 12월</td>\n",
       "      <td>10,204</td>\n",
       "      <td>2013</td>\n",
       "      <td>12</td>\n",
       "    </tr>\n",
       "  </tbody>\n",
       "</table>\n",
       "</div>"
      ],
      "text/plain": [
       "        지역         기간     분양가    연도   월\n",
       "0       전국  2013년 12월   8,059  2013  12\n",
       "1       서울  2013년 12월  18,189  2013  12\n",
       "2  6대광역시부산  2013년 12월   8,111  2013  12\n",
       "3       대구  2013년 12월   8,080  2013  12\n",
       "4       인천  2013년 12월  10,204  2013  12"
      ]
     },
     "execution_count": 161,
     "metadata": {},
     "output_type": "execute_result"
    }
   ],
   "source": [
    "\n",
    "df_2013_2015.head()\n"
   ]
  },
  {
   "cell_type": "markdown",
   "metadata": {},
   "source": [
    "## 지역명 강원과 부산 정리"
   ]
  },
  {
   "cell_type": "code",
   "execution_count": 163,
   "metadata": {},
   "outputs": [
    {
     "data": {
      "text/plain": [
       "           44\n",
       "전남         22\n",
       "전국         22\n",
       "대전         22\n",
       "세종         22\n",
       "충북         22\n",
       "충남         22\n",
       "전북         22\n",
       "경북         22\n",
       "대구         22\n",
       "지방강원       22\n",
       "경남         22\n",
       "울산         22\n",
       "서울         22\n",
       "6대광역시부산    22\n",
       "제주         22\n",
       "인천         22\n",
       "광주         22\n",
       "수도권        22\n",
       "경기         22\n",
       "Name: 지역, dtype: int64"
      ]
     },
     "execution_count": 163,
     "metadata": {},
     "output_type": "execute_result"
    }
   ],
   "source": [
    "df_2013_2015['지역'].value_counts()"
   ]
  },
  {
   "cell_type": "code",
   "execution_count": 164,
   "metadata": {},
   "outputs": [
    {
     "data": {
      "text/plain": [
       "       44\n",
       "전남     22\n",
       "전국     22\n",
       "대전     22\n",
       "세종     22\n",
       "충북     22\n",
       "충남     22\n",
       "전북     22\n",
       "부산     22\n",
       "경북     22\n",
       "강원     22\n",
       "경기     22\n",
       "경남     22\n",
       "울산     22\n",
       "서울     22\n",
       "제주     22\n",
       "인천     22\n",
       "광주     22\n",
       "수도권    22\n",
       "대구     22\n",
       "Name: 지역, dtype: int64"
      ]
     },
     "execution_count": 164,
     "metadata": {},
     "output_type": "execute_result"
    }
   ],
   "source": [
    "df_2013_2015['지역'] = df_2013_2015['지역'].apply(lambda x: re.sub('6대광역시부산','부산', x))\n",
    "df_2013_2015['지역'] = df_2013_2015['지역'].apply(lambda x: re.sub('지방강원','강원', x))\n",
    "df_2013_2015['지역'].value_counts()"
   ]
  },
  {
   "cell_type": "code",
   "execution_count": 165,
   "metadata": {},
   "outputs": [
    {
     "data": {
      "text/html": [
       "<div>\n",
       "<style scoped>\n",
       "    .dataframe tbody tr th:only-of-type {\n",
       "        vertical-align: middle;\n",
       "    }\n",
       "\n",
       "    .dataframe tbody tr th {\n",
       "        vertical-align: top;\n",
       "    }\n",
       "\n",
       "    .dataframe thead th {\n",
       "        text-align: right;\n",
       "    }\n",
       "</style>\n",
       "<table border=\"1\" class=\"dataframe\">\n",
       "  <thead>\n",
       "    <tr style=\"text-align: right;\">\n",
       "      <th></th>\n",
       "      <th>지역</th>\n",
       "      <th>기간</th>\n",
       "      <th>분양가</th>\n",
       "      <th>연도</th>\n",
       "      <th>월</th>\n",
       "    </tr>\n",
       "  </thead>\n",
       "  <tbody>\n",
       "    <tr>\n",
       "      <th>count</th>\n",
       "      <td>462</td>\n",
       "      <td>462</td>\n",
       "      <td>462</td>\n",
       "      <td>462</td>\n",
       "      <td>462</td>\n",
       "    </tr>\n",
       "    <tr>\n",
       "      <th>unique</th>\n",
       "      <td>20</td>\n",
       "      <td>22</td>\n",
       "      <td>371</td>\n",
       "      <td>3</td>\n",
       "      <td>12</td>\n",
       "    </tr>\n",
       "    <tr>\n",
       "      <th>top</th>\n",
       "      <td></td>\n",
       "      <td>2015년 8월</td>\n",
       "      <td>8,067</td>\n",
       "      <td>2014</td>\n",
       "      <td>9</td>\n",
       "    </tr>\n",
       "    <tr>\n",
       "      <th>freq</th>\n",
       "      <td>44</td>\n",
       "      <td>21</td>\n",
       "      <td>7</td>\n",
       "      <td>252</td>\n",
       "      <td>42</td>\n",
       "    </tr>\n",
       "  </tbody>\n",
       "</table>\n",
       "</div>"
      ],
      "text/plain": [
       "         지역        기간    분양가    연도    월\n",
       "count   462       462    462   462  462\n",
       "unique   20        22    371     3   12\n",
       "top          2015년 8월  8,067  2014    9\n",
       "freq     44        21      7   252   42"
      ]
     },
     "execution_count": 165,
     "metadata": {},
     "output_type": "execute_result"
    }
   ],
   "source": [
    "df_2013_2015.describe()"
   ]
  },
  {
   "cell_type": "code",
   "execution_count": 166,
   "metadata": {},
   "outputs": [
    {
     "name": "stdout",
     "output_type": "stream",
     "text": [
      "<class 'pandas.core.frame.DataFrame'>\n",
      "RangeIndex: 462 entries, 0 to 461\n",
      "Data columns (total 5 columns):\n",
      "지역     462 non-null object\n",
      "기간     462 non-null object\n",
      "분양가    462 non-null object\n",
      "연도     462 non-null object\n",
      "월      462 non-null object\n",
      "dtypes: object(5)\n",
      "memory usage: 18.1+ KB\n"
     ]
    }
   ],
   "source": [
    "df_2013_2015.info()"
   ]
  },
  {
   "cell_type": "code",
   "execution_count": 167,
   "metadata": {},
   "outputs": [],
   "source": [
    "df_2013_2015['분양가격'] = df_2013_2015['분양가'].str.replace(',', '').astype(int)"
   ]
  },
  {
   "cell_type": "markdown",
   "metadata": {},
   "source": [
    "## 2013년 12월 부터 2015년 9월까지의 데이터 시각화 하기"
   ]
  },
  {
   "cell_type": "code",
   "execution_count": 176,
   "metadata": {},
   "outputs": [
    {
     "data": {
      "image/png": "[encoded data removed]",
      "text/plain": [
       "<Figure size 1200x600 with 1 Axes>"
      ]
     },
     "metadata": {},
     "output_type": "display_data"
    },
    {
     "data": {
      "text/plain": [
       "<ggplot: (-9223371887579127145)>"
      ]
     },
     "execution_count": 176,
     "metadata": {},
     "output_type": "execute_result"
    }
   ],
   "source": [
    "(ggplot(df_2013_2015, aes(x='지역', y='분양가격', fill='연도'))\n",
    " + geom_boxplot()\n",
    " + theme(text=element_text(family=font_name),\n",
    "         figure_size=(12, 6))\n",
    ")"
   ]
  },
  {
   "cell_type": "code",
   "execution_count": 173,
   "metadata": {},
   "outputs": [
    {
     "data": {
      "image/png": "[encoded data removed]",
      "text/plain": [
       "<Figure size 1200x600 with 1 Axes>"
      ]
     },
     "metadata": {},
     "output_type": "display_data"
    },
    {
     "data": {
      "text/plain": [
       "<ggplot: (-9223371887578870440)>"
      ]
     },
     "execution_count": 173,
     "metadata": {},
     "output_type": "execute_result"
    }
   ],
   "source": [
    "(ggplot(df_2013_2015, aes(x='지역', y='분양가격', fill='연도'))\n",
    " + geom_bar(stat='identity', position='dodge')\n",
    " + theme(text=element_text(family=font_name),\n",
    "         figure_size=(12, 6))\n",
    ")"
   ]
  },
  {
   "cell_type": "markdown",
   "metadata": {},
   "source": [
    "## 이제 2013년부터 2018년 7월까지 데이터를 합칠 준비가 됨"
   ]
  },
  {
   "cell_type": "code",
   "execution_count": 181,
   "metadata": {},
   "outputs": [
    {
     "name": "stdout",
     "output_type": "stream",
     "text": [
      "(578, 7)\n"
     ]
    },
    {
     "data": {
      "text/html": [
       "<div>\n",
       "<style scoped>\n",
       "    .dataframe tbody tr th:only-of-type {\n",
       "        vertical-align: middle;\n",
       "    }\n",
       "\n",
       "    .dataframe tbody tr th {\n",
       "        vertical-align: top;\n",
       "    }\n",
       "\n",
       "    .dataframe thead th {\n",
       "        text-align: right;\n",
       "    }\n",
       "</style>\n",
       "<table border=\"1\" class=\"dataframe\">\n",
       "  <thead>\n",
       "    <tr style=\"text-align: right;\">\n",
       "      <th></th>\n",
       "      <th>지역명</th>\n",
       "      <th>규모구분</th>\n",
       "      <th>연도</th>\n",
       "      <th>월</th>\n",
       "      <th>분양가격(㎡)</th>\n",
       "      <th>분양가격</th>\n",
       "      <th>평당분양가격</th>\n",
       "    </tr>\n",
       "  </thead>\n",
       "  <tbody>\n",
       "    <tr>\n",
       "      <th>0</th>\n",
       "      <td>서울</td>\n",
       "      <td>전체</td>\n",
       "      <td>2015</td>\n",
       "      <td>10</td>\n",
       "      <td>5841</td>\n",
       "      <td>5,841</td>\n",
       "      <td>19,275</td>\n",
       "    </tr>\n",
       "    <tr>\n",
       "      <th>5</th>\n",
       "      <td>인천</td>\n",
       "      <td>전체</td>\n",
       "      <td>2015</td>\n",
       "      <td>10</td>\n",
       "      <td>3163</td>\n",
       "      <td>3,163</td>\n",
       "      <td>10,438</td>\n",
       "    </tr>\n",
       "    <tr>\n",
       "      <th>10</th>\n",
       "      <td>경기</td>\n",
       "      <td>전체</td>\n",
       "      <td>2015</td>\n",
       "      <td>10</td>\n",
       "      <td>3138</td>\n",
       "      <td>3,138</td>\n",
       "      <td>10,355</td>\n",
       "    </tr>\n",
       "    <tr>\n",
       "      <th>15</th>\n",
       "      <td>부산</td>\n",
       "      <td>전체</td>\n",
       "      <td>2015</td>\n",
       "      <td>10</td>\n",
       "      <td>3112</td>\n",
       "      <td>3,112</td>\n",
       "      <td>10,270</td>\n",
       "    </tr>\n",
       "    <tr>\n",
       "      <th>20</th>\n",
       "      <td>대구</td>\n",
       "      <td>전체</td>\n",
       "      <td>2015</td>\n",
       "      <td>10</td>\n",
       "      <td>2682</td>\n",
       "      <td>2,682</td>\n",
       "      <td>8,851</td>\n",
       "    </tr>\n",
       "  </tbody>\n",
       "</table>\n",
       "</div>"
      ],
      "text/plain": [
       "   지역명 규모구분    연도   월 분양가격(㎡)  분양가격  평당분양가격\n",
       "0   서울   전체  2015  10    5841 5,841  19,275\n",
       "5   인천   전체  2015  10    3163 3,163  10,438\n",
       "10  경기   전체  2015  10    3138 3,138  10,355\n",
       "15  부산   전체  2015  10    3112 3,112  10,270\n",
       "20  대구   전체  2015  10    2682 2,682   8,851"
      ]
     },
     "execution_count": 181,
     "metadata": {},
     "output_type": "execute_result"
    }
   ],
   "source": [
    "df_2015_2018 = pre_sale.loc[pre_sale['규모구분'] == '전체'] #2013~2015는 규모구분이 없어서 전체인거만 가져오기\n",
    "print(df_2015_2018.shape)\n",
    "df_2015_2018.head()\n"
   ]
  },
  {
   "cell_type": "code",
   "execution_count": 182,
   "metadata": {},
   "outputs": [
    {
     "data": {
      "text/plain": [
       "Index(['지역', '기간', '분양가', '연도', '월', '분양가격'], dtype='object')"
      ]
     },
     "execution_count": 182,
     "metadata": {},
     "output_type": "execute_result"
    }
   ],
   "source": [
    "df_2013_2015.columns"
   ]
  },
  {
   "cell_type": "code",
   "execution_count": 183,
   "metadata": {},
   "outputs": [
    {
     "data": {
      "text/html": [
       "<div>\n",
       "<style scoped>\n",
       "    .dataframe tbody tr th:only-of-type {\n",
       "        vertical-align: middle;\n",
       "    }\n",
       "\n",
       "    .dataframe tbody tr th {\n",
       "        vertical-align: top;\n",
       "    }\n",
       "\n",
       "    .dataframe thead th {\n",
       "        text-align: right;\n",
       "    }\n",
       "</style>\n",
       "<table border=\"1\" class=\"dataframe\">\n",
       "  <thead>\n",
       "    <tr style=\"text-align: right;\">\n",
       "      <th></th>\n",
       "      <th>지역</th>\n",
       "      <th>연도</th>\n",
       "      <th>월</th>\n",
       "      <th>분양가격</th>\n",
       "    </tr>\n",
       "  </thead>\n",
       "  <tbody>\n",
       "    <tr>\n",
       "      <th>0</th>\n",
       "      <td>전국</td>\n",
       "      <td>2013</td>\n",
       "      <td>12</td>\n",
       "      <td>8059</td>\n",
       "    </tr>\n",
       "    <tr>\n",
       "      <th>1</th>\n",
       "      <td>서울</td>\n",
       "      <td>2013</td>\n",
       "      <td>12</td>\n",
       "      <td>18189</td>\n",
       "    </tr>\n",
       "    <tr>\n",
       "      <th>2</th>\n",
       "      <td>부산</td>\n",
       "      <td>2013</td>\n",
       "      <td>12</td>\n",
       "      <td>8111</td>\n",
       "    </tr>\n",
       "    <tr>\n",
       "      <th>3</th>\n",
       "      <td>대구</td>\n",
       "      <td>2013</td>\n",
       "      <td>12</td>\n",
       "      <td>8080</td>\n",
       "    </tr>\n",
       "    <tr>\n",
       "      <th>4</th>\n",
       "      <td>인천</td>\n",
       "      <td>2013</td>\n",
       "      <td>12</td>\n",
       "      <td>10204</td>\n",
       "    </tr>\n",
       "  </tbody>\n",
       "</table>\n",
       "</div>"
      ],
      "text/plain": [
       "   지역    연도   월   분양가격\n",
       "0  전국  2013  12   8059\n",
       "1  서울  2013  12  18189\n",
       "2  부산  2013  12   8111\n",
       "3  대구  2013  12   8080\n",
       "4  인천  2013  12  10204"
      ]
     },
     "execution_count": 183,
     "metadata": {},
     "output_type": "execute_result"
    }
   ],
   "source": [
    "df_2013_2015_prepare = df_2013_2015[['지역', '연도', '월', '분양가격']]\n",
    "df_2013_2015_prepare.head()"
   ]
  },
  {
   "cell_type": "code",
   "execution_count": 184,
   "metadata": {},
   "outputs": [],
   "source": [
    "\n",
    "df_2013_2015_prepare.columns = ['지역명', '연도', '월', '평당분양가격']"
   ]
  },
  {
   "cell_type": "code",
   "execution_count": 185,
   "metadata": {},
   "outputs": [
    {
     "data": {
      "text/plain": [
       "Index(['지역명', '규모구분', '연도', '월', '분양가격(㎡)', '분양가격', '평당분양가격'], dtype='object')"
      ]
     },
     "execution_count": 185,
     "metadata": {},
     "output_type": "execute_result"
    }
   ],
   "source": [
    "df_2015_2018.columns"
   ]
  },
  {
   "cell_type": "code",
   "execution_count": 186,
   "metadata": {},
   "outputs": [
    {
     "data": {
      "text/html": [
       "<div>\n",
       "<style scoped>\n",
       "    .dataframe tbody tr th:only-of-type {\n",
       "        vertical-align: middle;\n",
       "    }\n",
       "\n",
       "    .dataframe tbody tr th {\n",
       "        vertical-align: top;\n",
       "    }\n",
       "\n",
       "    .dataframe thead th {\n",
       "        text-align: right;\n",
       "    }\n",
       "</style>\n",
       "<table border=\"1\" class=\"dataframe\">\n",
       "  <thead>\n",
       "    <tr style=\"text-align: right;\">\n",
       "      <th></th>\n",
       "      <th>지역명</th>\n",
       "      <th>연도</th>\n",
       "      <th>월</th>\n",
       "      <th>평당분양가격</th>\n",
       "    </tr>\n",
       "  </thead>\n",
       "  <tbody>\n",
       "    <tr>\n",
       "      <th>0</th>\n",
       "      <td>서울</td>\n",
       "      <td>2015</td>\n",
       "      <td>10</td>\n",
       "      <td>19,275</td>\n",
       "    </tr>\n",
       "    <tr>\n",
       "      <th>5</th>\n",
       "      <td>인천</td>\n",
       "      <td>2015</td>\n",
       "      <td>10</td>\n",
       "      <td>10,438</td>\n",
       "    </tr>\n",
       "    <tr>\n",
       "      <th>10</th>\n",
       "      <td>경기</td>\n",
       "      <td>2015</td>\n",
       "      <td>10</td>\n",
       "      <td>10,355</td>\n",
       "    </tr>\n",
       "    <tr>\n",
       "      <th>15</th>\n",
       "      <td>부산</td>\n",
       "      <td>2015</td>\n",
       "      <td>10</td>\n",
       "      <td>10,270</td>\n",
       "    </tr>\n",
       "    <tr>\n",
       "      <th>20</th>\n",
       "      <td>대구</td>\n",
       "      <td>2015</td>\n",
       "      <td>10</td>\n",
       "      <td>8,851</td>\n",
       "    </tr>\n",
       "  </tbody>\n",
       "</table>\n",
       "</div>"
      ],
      "text/plain": [
       "   지역명    연도   월  평당분양가격\n",
       "0   서울  2015  10  19,275\n",
       "5   인천  2015  10  10,438\n",
       "10  경기  2015  10  10,355\n",
       "15  부산  2015  10  10,270\n",
       "20  대구  2015  10   8,851"
      ]
     },
     "execution_count": 186,
     "metadata": {},
     "output_type": "execute_result"
    }
   ],
   "source": [
    "df_2015_2018_prepare = df_2015_2018[['지역명', '연도', '월', '평당분양가격']] #쓸 것만 가져오기\n",
    "df_2015_2018_prepare.head()"
   ]
  },
  {
   "cell_type": "code",
   "execution_count": 187,
   "metadata": {},
   "outputs": [
    {
     "data": {
      "text/html": [
       "<div>\n",
       "<style scoped>\n",
       "    .dataframe tbody tr th:only-of-type {\n",
       "        vertical-align: middle;\n",
       "    }\n",
       "\n",
       "    .dataframe tbody tr th {\n",
       "        vertical-align: top;\n",
       "    }\n",
       "\n",
       "    .dataframe thead th {\n",
       "        text-align: right;\n",
       "    }\n",
       "</style>\n",
       "<table border=\"1\" class=\"dataframe\">\n",
       "  <thead>\n",
       "    <tr style=\"text-align: right;\">\n",
       "      <th></th>\n",
       "      <th>평당분양가격</th>\n",
       "    </tr>\n",
       "  </thead>\n",
       "  <tbody>\n",
       "    <tr>\n",
       "      <th>count</th>\n",
       "      <td>561</td>\n",
       "    </tr>\n",
       "    <tr>\n",
       "      <th>mean</th>\n",
       "      <td>9,729</td>\n",
       "    </tr>\n",
       "    <tr>\n",
       "      <th>std</th>\n",
       "      <td>3,367</td>\n",
       "    </tr>\n",
       "    <tr>\n",
       "      <th>min</th>\n",
       "      <td>6,300</td>\n",
       "    </tr>\n",
       "    <tr>\n",
       "      <th>25%</th>\n",
       "      <td>7,498</td>\n",
       "    </tr>\n",
       "    <tr>\n",
       "      <th>50%</th>\n",
       "      <td>8,973</td>\n",
       "    </tr>\n",
       "    <tr>\n",
       "      <th>75%</th>\n",
       "      <td>10,560</td>\n",
       "    </tr>\n",
       "    <tr>\n",
       "      <th>max</th>\n",
       "      <td>22,833</td>\n",
       "    </tr>\n",
       "  </tbody>\n",
       "</table>\n",
       "</div>"
      ],
      "text/plain": [
       "       평당분양가격\n",
       "count     561\n",
       "mean    9,729\n",
       "std     3,367\n",
       "min     6,300\n",
       "25%     7,498\n",
       "50%     8,973\n",
       "75%    10,560\n",
       "max    22,833"
      ]
     },
     "execution_count": 187,
     "metadata": {},
     "output_type": "execute_result"
    }
   ],
   "source": [
    "df_2015_2018_prepare.describe()"
   ]
  },
  {
   "cell_type": "code",
   "execution_count": 188,
   "metadata": {},
   "outputs": [
    {
     "data": {
      "text/plain": [
       "(1040, 4)"
      ]
     },
     "execution_count": 188,
     "metadata": {},
     "output_type": "execute_result"
    }
   ],
   "source": [
    "df_2013_2018 = pd.concat([df_2013_2015_prepare, df_2015_2018_prepare]) #concat으로 위아래로 붙여주기\n",
    "df_2013_2018.shape"
   ]
  },
  {
   "cell_type": "code",
   "execution_count": 189,
   "metadata": {},
   "outputs": [
    {
     "data": {
      "text/html": [
       "<div>\n",
       "<style scoped>\n",
       "    .dataframe tbody tr th:only-of-type {\n",
       "        vertical-align: middle;\n",
       "    }\n",
       "\n",
       "    .dataframe tbody tr th {\n",
       "        vertical-align: top;\n",
       "    }\n",
       "\n",
       "    .dataframe thead th {\n",
       "        text-align: right;\n",
       "    }\n",
       "</style>\n",
       "<table border=\"1\" class=\"dataframe\">\n",
       "  <thead>\n",
       "    <tr style=\"text-align: right;\">\n",
       "      <th></th>\n",
       "      <th>지역명</th>\n",
       "      <th>연도</th>\n",
       "      <th>월</th>\n",
       "      <th>평당분양가격</th>\n",
       "    </tr>\n",
       "  </thead>\n",
       "  <tbody>\n",
       "    <tr>\n",
       "      <th>0</th>\n",
       "      <td>전국</td>\n",
       "      <td>2013</td>\n",
       "      <td>12</td>\n",
       "      <td>8,059</td>\n",
       "    </tr>\n",
       "    <tr>\n",
       "      <th>1</th>\n",
       "      <td>서울</td>\n",
       "      <td>2013</td>\n",
       "      <td>12</td>\n",
       "      <td>18,189</td>\n",
       "    </tr>\n",
       "    <tr>\n",
       "      <th>2</th>\n",
       "      <td>부산</td>\n",
       "      <td>2013</td>\n",
       "      <td>12</td>\n",
       "      <td>8,111</td>\n",
       "    </tr>\n",
       "    <tr>\n",
       "      <th>3</th>\n",
       "      <td>대구</td>\n",
       "      <td>2013</td>\n",
       "      <td>12</td>\n",
       "      <td>8,080</td>\n",
       "    </tr>\n",
       "    <tr>\n",
       "      <th>4</th>\n",
       "      <td>인천</td>\n",
       "      <td>2013</td>\n",
       "      <td>12</td>\n",
       "      <td>10,204</td>\n",
       "    </tr>\n",
       "  </tbody>\n",
       "</table>\n",
       "</div>"
      ],
      "text/plain": [
       "  지역명    연도   월  평당분양가격\n",
       "0  전국  2013  12   8,059\n",
       "1  서울  2013  12  18,189\n",
       "2  부산  2013  12   8,111\n",
       "3  대구  2013  12   8,080\n",
       "4  인천  2013  12  10,204"
      ]
     },
     "execution_count": 189,
     "metadata": {},
     "output_type": "execute_result"
    }
   ],
   "source": [
    "df_2013_2018.head()"
   ]
  },
  {
   "cell_type": "code",
   "execution_count": 190,
   "metadata": {},
   "outputs": [
    {
     "data": {
      "text/html": [
       "<div>\n",
       "<style scoped>\n",
       "    .dataframe tbody tr th:only-of-type {\n",
       "        vertical-align: middle;\n",
       "    }\n",
       "\n",
       "    .dataframe tbody tr th {\n",
       "        vertical-align: top;\n",
       "    }\n",
       "\n",
       "    .dataframe thead th {\n",
       "        text-align: right;\n",
       "    }\n",
       "</style>\n",
       "<table border=\"1\" class=\"dataframe\">\n",
       "  <thead>\n",
       "    <tr style=\"text-align: right;\">\n",
       "      <th></th>\n",
       "      <th>지역명</th>\n",
       "      <th>연도</th>\n",
       "      <th>월</th>\n",
       "      <th>평당분양가격</th>\n",
       "    </tr>\n",
       "  </thead>\n",
       "  <tbody>\n",
       "    <tr>\n",
       "      <th>2865</th>\n",
       "      <td>전북</td>\n",
       "      <td>2018</td>\n",
       "      <td>7</td>\n",
       "      <td>7,699</td>\n",
       "    </tr>\n",
       "    <tr>\n",
       "      <th>2870</th>\n",
       "      <td>전남</td>\n",
       "      <td>2018</td>\n",
       "      <td>7</td>\n",
       "      <td>7,778</td>\n",
       "    </tr>\n",
       "    <tr>\n",
       "      <th>2875</th>\n",
       "      <td>경북</td>\n",
       "      <td>2018</td>\n",
       "      <td>7</td>\n",
       "      <td>8,824</td>\n",
       "    </tr>\n",
       "    <tr>\n",
       "      <th>2880</th>\n",
       "      <td>경남</td>\n",
       "      <td>2018</td>\n",
       "      <td>7</td>\n",
       "      <td>8,897</td>\n",
       "    </tr>\n",
       "    <tr>\n",
       "      <th>2885</th>\n",
       "      <td>제주</td>\n",
       "      <td>2018</td>\n",
       "      <td>7</td>\n",
       "      <td>11,002</td>\n",
       "    </tr>\n",
       "  </tbody>\n",
       "</table>\n",
       "</div>"
      ],
      "text/plain": [
       "     지역명    연도  월  평당분양가격\n",
       "2865  전북  2018  7   7,699\n",
       "2870  전남  2018  7   7,778\n",
       "2875  경북  2018  7   8,824\n",
       "2880  경남  2018  7   8,897\n",
       "2885  제주  2018  7  11,002"
      ]
     },
     "execution_count": 190,
     "metadata": {},
     "output_type": "execute_result"
    }
   ],
   "source": [
    "df_2013_2018.tail()"
   ]
  },
  {
   "cell_type": "code",
   "execution_count": 191,
   "metadata": {},
   "outputs": [
    {
     "data": {
      "text/plain": [
       "array(['전국', '서울', '부산', '대구', '인천', '광주', '대전', '울산', '', '경기', '수도권',\n",
       "       '세종', '강원', '충북', '충남', '전북', '전남', '경북', '경남', '제주'], dtype=object)"
      ]
     },
     "execution_count": 191,
     "metadata": {},
     "output_type": "execute_result"
    }
   ],
   "source": [
    "df_2013_2015_region= df_2013_2015_prepare['지역명'].unique() #unique로 중복처리해서 고유값들만 보기 \n",
    "df_2013_2015_region"
   ]
  },
  {
   "cell_type": "code",
   "execution_count": 192,
   "metadata": {},
   "outputs": [
    {
     "data": {
      "text/plain": [
       "array(['서울', '인천', '경기', '부산', '대구', '광주', '대전', '울산', '세종', '강원', '충북',\n",
       "       '충남', '전북', '전남', '경북', '경남', '제주'], dtype=object)"
      ]
     },
     "execution_count": 192,
     "metadata": {},
     "output_type": "execute_result"
    }
   ],
   "source": [
    "df_2015_2018_region = df_2015_2018_prepare['지역명'].unique()\n",
    "df_2015_2018_region"
   ]
  },
  {
   "cell_type": "code",
   "execution_count": 193,
   "metadata": {},
   "outputs": [
    {
     "data": {
      "text/plain": [
       "['전국', '', '수도권']"
      ]
     },
     "execution_count": 193,
     "metadata": {},
     "output_type": "execute_result"
    }
   ],
   "source": [
    "exclude_region = [region for region in df_2013_2015_region if not region in df_2015_2018_region] \n",
    "exclude_region \n",
    "#다른거 찾기"
   ]
  },
  {
   "cell_type": "code",
   "execution_count": 194,
   "metadata": {},
   "outputs": [
    {
     "data": {
      "text/plain": [
       "(1040, 4)"
      ]
     },
     "execution_count": 194,
     "metadata": {},
     "output_type": "execute_result"
    }
   ],
   "source": [
    "df_2013_2018.shape"
   ]
  },
  {
   "cell_type": "code",
   "execution_count": 195,
   "metadata": {},
   "outputs": [
    {
     "data": {
      "text/html": [
       "<div>\n",
       "<style scoped>\n",
       "    .dataframe tbody tr th:only-of-type {\n",
       "        vertical-align: middle;\n",
       "    }\n",
       "\n",
       "    .dataframe tbody tr th {\n",
       "        vertical-align: top;\n",
       "    }\n",
       "\n",
       "    .dataframe thead th {\n",
       "        text-align: right;\n",
       "    }\n",
       "</style>\n",
       "<table border=\"1\" class=\"dataframe\">\n",
       "  <thead>\n",
       "    <tr style=\"text-align: right;\">\n",
       "      <th></th>\n",
       "      <th>지역명</th>\n",
       "      <th>연도</th>\n",
       "      <th>월</th>\n",
       "      <th>평당분양가격</th>\n",
       "    </tr>\n",
       "  </thead>\n",
       "  <tbody>\n",
       "    <tr>\n",
       "      <th>0</th>\n",
       "      <td>전국</td>\n",
       "      <td>2013</td>\n",
       "      <td>12</td>\n",
       "      <td>8,059</td>\n",
       "    </tr>\n",
       "    <tr>\n",
       "      <th>10</th>\n",
       "      <td>수도권</td>\n",
       "      <td>2013</td>\n",
       "      <td>12</td>\n",
       "      <td>13,083</td>\n",
       "    </tr>\n",
       "    <tr>\n",
       "      <th>21</th>\n",
       "      <td>전국</td>\n",
       "      <td>2014</td>\n",
       "      <td>1</td>\n",
       "      <td>8,130</td>\n",
       "    </tr>\n",
       "    <tr>\n",
       "      <th>31</th>\n",
       "      <td>수도권</td>\n",
       "      <td>2014</td>\n",
       "      <td>1</td>\n",
       "      <td>12,995</td>\n",
       "    </tr>\n",
       "    <tr>\n",
       "      <th>42</th>\n",
       "      <td>전국</td>\n",
       "      <td>2014</td>\n",
       "      <td>2</td>\n",
       "      <td>8,195</td>\n",
       "    </tr>\n",
       "  </tbody>\n",
       "</table>\n",
       "</div>"
      ],
      "text/plain": [
       "    지역명    연도   월  평당분양가격\n",
       "0    전국  2013  12   8,059\n",
       "10  수도권  2013  12  13,083\n",
       "21   전국  2014   1   8,130\n",
       "31  수도권  2014   1  12,995\n",
       "42   전국  2014   2   8,195"
      ]
     },
     "execution_count": 195,
     "metadata": {},
     "output_type": "execute_result"
    }
   ],
   "source": [
    "df_2013_2018.loc[df_2013_2018['지역명'].str.match('전국|수도권')].head()"
   ]
  },
  {
   "cell_type": "code",
   "execution_count": 197,
   "metadata": {},
   "outputs": [],
   "source": [
    "\n",
    "df_2013_2018.drop(df_2013_2018.loc[df_2013_2018['지역명'].str.match('전국|수도권')].index, axis=0, inplace=True)\n",
    "df_2013_2018.drop(df_2013_2018.loc[df_2013_2018['지역명'] == ''].index, axis=0, inplace=True)"
   ]
  },
  {
   "cell_type": "markdown",
   "metadata": {},
   "source": [
    "## 2013년 12월~2018년 7월 전국 신규 민간 아파트 분양가격 동향 시각화"
   ]
  },
  {
   "cell_type": "code",
   "execution_count": 199,
   "metadata": {},
   "outputs": [
    {
     "data": {
      "image/png": "[encoded data removed]",
      "text/plain": [
       "<Figure size 640x480 with 1 Axes>"
      ]
     },
     "metadata": {},
     "output_type": "display_data"
    },
    {
     "data": {
      "text/plain": [
       "<ggplot: (-9223371887581132400)>"
      ]
     },
     "execution_count": 199,
     "metadata": {},
     "output_type": "execute_result"
    }
   ],
   "source": [
    "(ggplot(df_2013_2018, aes(x='연도', y='평당분양가격'))\n",
    " + geom_bar(stat='identity', position='dodge')\n",
    " + theme(text=element_text(family=font_name))\n",
    ")\n"
   ]
  },
  {
   "cell_type": "code",
   "execution_count": 200,
   "metadata": {},
   "outputs": [
    {
     "data": {
      "image/png": "[encoded data removed]",
      "text/plain": [
       "<Figure size 1200x600 with 1 Axes>"
      ]
     },
     "metadata": {},
     "output_type": "display_data"
    },
    {
     "data": {
      "text/plain": [
       "<ggplot: (149273952467)>"
      ]
     },
     "execution_count": 200,
     "metadata": {},
     "output_type": "execute_result"
    }
   ],
   "source": [
    "(ggplot(df_2013_2018, aes(x='지역명', y='평당분양가격', fill='연도'))\n",
    " + geom_bar(stat='identity', position='dodge')\n",
    " + theme(text=element_text(family=font_name),\n",
    "         figure_size=(12, 6))\n",
    ")\n"
   ]
  },
  {
   "cell_type": "code",
   "execution_count": 201,
   "metadata": {},
   "outputs": [
    {
     "data": {
      "image/png": "[encoded data removed]",
      "text/plain": [
       "<Figure size 640x480 with 1 Axes>"
      ]
     },
     "metadata": {},
     "output_type": "display_data"
    },
    {
     "data": {
      "text/plain": [
       "<ggplot: (149275338935)>"
      ]
     },
     "execution_count": 201,
     "metadata": {},
     "output_type": "execute_result"
    }
   ],
   "source": [
    "(ggplot(df_2015_2018_prepare)\n",
    " + aes(x='연도', y='평당분양가격')\n",
    " + ggtitle('연도별 평당분양가격')\n",
    " + geom_boxplot()\n",
    " + theme(text=element_text(family=font_name))\n",
    ")"
   ]
  },
  {
   "cell_type": "code",
   "execution_count": 202,
   "metadata": {},
   "outputs": [
    {
     "data": {
      "image/png": "[encoded data removed]",
      "text/plain": [
       "<Figure size 640x480 with 1 Axes>"
      ]
     },
     "metadata": {},
     "output_type": "display_data"
    },
    {
     "data": {
      "text/plain": [
       "<ggplot: (149275730033)>"
      ]
     },
     "execution_count": 202,
     "metadata": {},
     "output_type": "execute_result"
    }
   ],
   "source": [
    "(ggplot(df_2013_2018)\n",
    " + aes(x='연도', y='평당분양가격')\n",
    " + ggtitle('연도별 평당분양가격')\n",
    " + geom_boxplot()\n",
    " + theme(text=element_text(family=font_name))\n",
    ")"
   ]
  },
  {
   "cell_type": "code",
   "execution_count": 206,
   "metadata": {},
   "outputs": [
    {
     "data": {
      "image/png": "[encoded data removed]",
      "text/plain": [
       "<Figure size 640x480 with 1 Axes>"
      ]
     },
     "metadata": {},
     "output_type": "display_data"
    },
    {
     "data": {
      "text/plain": [
       "<ggplot: (149274125839)>"
      ]
     },
     "execution_count": 206,
     "metadata": {},
     "output_type": "execute_result"
    }
   ],
   "source": [
    "df_2013_2018_jeju = df_2013_2018.loc[df_2013_2018['지역명'] == '제주']\n",
    "(ggplot(df_2013_2018_jeju)\n",
    " + aes(x='연도', y='평당분양가격')\n",
    " + geom_boxplot()\n",
    " + theme(text=element_text(family=font_name))\n",
    ")\n"
   ]
  },
  {
   "cell_type": "code",
   "execution_count": 208,
   "metadata": {
    "scrolled": true
   },
   "outputs": [
    {
     "data": {
      "image/png": "[encoded data removed]",
      "text/plain": [
       "<Figure size 1200x1200 with 17 Axes>"
      ]
     },
     "metadata": {},
     "output_type": "display_data"
    },
    {
     "data": {
      "text/plain": [
       "<ggplot: (-9223371887578821267)>"
      ]
     },
     "execution_count": 208,
     "metadata": {},
     "output_type": "execute_result"
    }
   ],
   "source": [
    "(ggplot(df_2013_2018)\n",
    " + aes(x='연도', y='평당분양가격')\n",
    " + geom_boxplot()\n",
    " + facet_wrap('지역명')\n",
    " + theme(text=element_text(family=font_name),\n",
    "         axis_text_x=element_text(rotation=70),\n",
    "         figure_size=(12, 12))\n",
    ")\n"
   ]
  }
 ],
 "metadata": {
  "kernelspec": {
   "display_name": "Python 3",
   "language": "python",
   "name": "python3"
  },
  "language_info": {
   "codemirror_mode": {
    "name": "ipython",
    "version": 3
   },
   "file_extension": ".py",
   "mimetype": "text/x-python",
   "name": "python",
   "nbconvert_exporter": "python",
   "pygments_lexer": "ipython3",
   "version": "3.7.3"
  }
 },
 "nbformat": 4,
 "nbformat_minor": 2
}
